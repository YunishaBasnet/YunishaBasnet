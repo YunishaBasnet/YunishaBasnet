{
  "nbformat": 4,
  "nbformat_minor": 0,
  "metadata": {
    "colab": {
      "private_outputs": true,
      "provenance": [],
      "authorship_tag": "ABX9TyMhdAeOGGRMWY6FsAospRlp",
      "include_colab_link": true
    },
    "kernelspec": {
      "name": "python3",
      "display_name": "Python 3"
    },
    "language_info": {
      "name": "python"
    }
  },
  "cells": [
    {
      "cell_type": "markdown",
      "metadata": {
        "id": "view-in-github",
        "colab_type": "text"
      },
      "source": [
        "<a href=\"https://colab.research.google.com/github/YunishaBasnet/YunishaBasnet/blob/main/singnature.ipynb\" target=\"_parent\"><img src=\"https://colab.research.google.com/assets/colab-badge.svg\" alt=\"Open In Colab\"/></a>"
      ]
    },
    {
      "cell_type": "code",
      "source": [
        "import pandas as pd\n",
        "from sklearn.preprocessing import OneHotEncoder\n",
        "from sklearn.model_selection import train_test_split\n",
        "from sklearn.linear_model import LinearRegression\n",
        "from sklearn.metrics import mean_squared_error, r2_score\n",
        "import matplotlib.pyplot as plt"
      ],
      "metadata": {
        "id": "OeC442fDYFtM"
      },
      "execution_count": null,
      "outputs": []
    },
    {
      "cell_type": "code",
      "execution_count": null,
      "metadata": {
        "id": "cv1lO162B6Vk"
      },
      "outputs": [],
      "source": [
        "data = pd.read_csv('students.csv')"
      ]
    },
    {
      "cell_type": "code",
      "source": [
        "data.head()"
      ],
      "metadata": {
        "id": "7aYN82iUC9ai"
      },
      "execution_count": null,
      "outputs": []
    },
    {
      "cell_type": "code",
      "source": [
        "data.columns"
      ],
      "metadata": {
        "id": "jXRhYaSVDBgH"
      },
      "execution_count": null,
      "outputs": []
    },
    {
      "cell_type": "code",
      "source": [
        "data.dtypes"
      ],
      "metadata": {
        "id": "K7WK4jVsDD7_"
      },
      "execution_count": null,
      "outputs": []
    },
    {
      "cell_type": "code",
      "source": [
        "data.describe()"
      ],
      "metadata": {
        "id": "g8bDenJDDHXX"
      },
      "execution_count": null,
      "outputs": []
    },
    {
      "cell_type": "code",
      "source": [
        "x = data.grade\n",
        "x_encoded = pd.get_dummies(x)\n",
        "y = data.age"
      ],
      "metadata": {
        "id": "DreYiGKoYAG0"
      },
      "execution_count": null,
      "outputs": []
    },
    {
      "cell_type": "code",
      "source": [
        "x_train, x_test, y_train, y_test = train_test_split(x_encoded, y, test_size=0.2, random_state=42)"
      ],
      "metadata": {
        "id": "LvVFZWadYNFE"
      },
      "execution_count": null,
      "outputs": []
    },
    {
      "cell_type": "code",
      "source": [
        "model = LinearRegression()\n",
        "model.fit(x_train, y_train)"
      ],
      "metadata": {
        "id": "dkVXbYY0YQE2"
      },
      "execution_count": null,
      "outputs": []
    },
    {
      "cell_type": "code",
      "source": [
        "y_pred = model.predict(x_test)\n",
        "mse = mean_squared_error(y_test, y_pred)\n",
        "r2 = r2_score(y_test, y_pred)"
      ],
      "metadata": {
        "id": "j302lAIVYW8N"
      },
      "execution_count": null,
      "outputs": []
    },
    {
      "cell_type": "code",
      "source": [
        "print(f'Mean Squared Error: {mse}')\n",
        "print(f'R-squared Score: {r2}')"
      ],
      "metadata": {
        "id": "ddL4RGDtYgET"
      },
      "execution_count": null,
      "outputs": []
    },
    {
      "cell_type": "code",
      "source": [
        "sorted_indices = x_test.iloc[:,0].argsort()\n",
        "x_test_sorted = x_test.iloc[sorted_indices]\n",
        "y_test_sorted = y_test.iloc[sorted_indices]"
      ],
      "metadata": {
        "id": "EpPTLJu3Boso"
      },
      "execution_count": null,
      "outputs": []
    },
    {
      "cell_type": "code",
      "source": [
        "import matplotlib.pyplot as plt\n",
        "\n",
        "# Sort the test set by the feature values for a smoother curve\n",
        "sorted_indices = x_test.iloc[:, 0].argsort()\n",
        "x_test_sorted = x_test.iloc[sorted_indices]\n",
        "y_test_sorted = y_test.iloc[sorted_indices]\n",
        "\n",
        "# Plot the scatter plot of the test set\n",
        "plt.scatter(x_test_sorted.iloc[:, 0], y_test_sorted, color='black', label='Actual data')\n",
        "\n",
        "# Plot the linear regression curve\n",
        "plt.plot(x_test_sorted.iloc[:, 0], y_pred[sorted_indices], color='blue', linewidth=3, label='Linear Regression Curve')\n",
        "\n",
        "# Highlight low and high points\n",
        "plt.scatter(x_test_sorted.iloc[[0, -1], 0], y_pred[sorted_indices][[0, -1]], color='red', label='Low and High Points')\n",
        "\n",
        "# Add labels and title\n",
        "plt.xlabel('Feature')\n",
        "plt.ylabel('Age')\n",
        "plt.title('Linear Regression Curve with Low and High Points')\n",
        "\n",
        "# Show legend\n",
        "plt.legend()\n",
        "\n",
        "# Show the plot\n",
        "plt.show()\n"
      ],
      "metadata": {
        "id": "CV71R01NCZfz"
      },
      "execution_count": null,
      "outputs": []
    }
  ]
}