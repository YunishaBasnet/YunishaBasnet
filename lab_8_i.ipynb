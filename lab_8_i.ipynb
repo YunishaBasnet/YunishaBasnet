{
  "nbformat": 4,
  "nbformat_minor": 0,
  "metadata": {
    "colab": {
      "provenance": [],
      "authorship_tag": "ABX9TyMBO7o7kfitvHkMYrh+17Vi",
      "include_colab_link": true
    },
    "kernelspec": {
      "name": "python3",
      "display_name": "Python 3"
    },
    "language_info": {
      "name": "python"
    }
  },
  "cells": [
    {
      "cell_type": "markdown",
      "metadata": {
        "id": "view-in-github",
        "colab_type": "text"
      },
      "source": [
        "<a href=\"https://colab.research.google.com/github/YunishaBasnet/YunishaBasnet/blob/main/lab_8_i.ipynb\" target=\"_parent\"><img src=\"https://colab.research.google.com/assets/colab-badge.svg\" alt=\"Open In Colab\"/></a>"
      ]
    },
    {
      "cell_type": "code",
      "execution_count": null,
      "metadata": {
        "colab": {
          "base_uri": "https://localhost:8080/"
        },
        "id": "hp164k32Buit",
        "outputId": "e2d7dde3-4892-4a78-de5e-b53469dbb75a"
      },
      "outputs": [
        {
          "output_type": "stream",
          "name": "stdout",
          "text": [
            "enter a radius:7\n",
            "7\n",
            "615.7521601035994\n",
            "478.91834674724396\n"
          ]
        }
      ],
      "source": [
        "#answer 1\n",
        "import math #importing math library\n",
        "class spheres():\n",
        "  def __init__(self,radius):\n",
        "    self.radius = radius  \n",
        "  def getRadius(self):  \n",
        "    print( self.radius)\n",
        "  def surfaceArea(self):\n",
        "    self.area = 4 * math.pi * self.radius**2 #compute surface area\n",
        "    print(self.area)\n",
        "  def volume(self):\n",
        "    self.volume = ((4/3) * math.pi *self.radius**3 )/ 3 # volume \n",
        "    print(self.volume)\n",
        "\n",
        "r= eval(input(\"enter a radius:\")) #assiging the value of radius\n",
        "b = spheres(r)\n",
        "b.getRadius()\n",
        "b.surfaceArea()\n",
        "b.volume()"
      ]
    },
    {
      "cell_type": "code",
      "source": [
        "#answer 2\n",
        "\n",
        "import random\n",
        "class cards:\n",
        "  def __init__(self,rank,suit):\n",
        "    self.number = rank \n",
        "    self.suits =suit \n",
        "    # declaring a dict of all suits.\n",
        "    self.suit_val = {'d': 'diamond', 's':'spades', 'h': 'heart', 'c': 'clubs'} \n",
        "  def Rank(self):\n",
        "    return self.number\n",
        "  def Suit(self):\n",
        "    return self.suits\n",
        "  def val(self):   \n",
        "    if(self.number==1):    # assiging the card numbers because it is define in diff. way \n",
        "      return 'Ace'\n",
        "    elif(self.number==13):\n",
        "      return 'king'\n",
        "    elif(self.number==12):\n",
        "      return \"queen\"\n",
        "    elif(self.number==11):\n",
        "      return 'jack'\n",
        "    else:\n",
        "      return self.number #returing the value of each cards number\n",
        "  def __str__(self):\n",
        "    value = self.val()\n",
        "    print(\"the card u got is:\", )\n",
        "    print(value,\"of\",self.suit_val[self.Suit()])\n",
        "\n",
        "n= eval(input(\"input the number of the card:\")) #assiging the value\n",
        "chars = ['d','s','h','c']\n",
        "s = random.choice(chars) #letting the computer to choose.\n",
        "a = cards(n,s)\n",
        "a.__str__()\n"
      ],
      "metadata": {
        "id": "277rv5ir3qJZ",
        "colab": {
          "base_uri": "https://localhost:8080/"
        },
        "outputId": "04922ce9-50b6-42b8-cda4-a1fa2d8c27a1"
      },
      "execution_count": 16,
      "outputs": [
        {
          "output_type": "stream",
          "name": "stdout",
          "text": [
            "input the number of the card:9\n",
            "the card u got is:\n",
            "9 of clubs\n"
          ]
        }
      ]
    }
  ]
}