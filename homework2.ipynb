{
  "nbformat": 4,
  "nbformat_minor": 0,
  "metadata": {
    "colab": {
      "provenance": [],
      "authorship_tag": "ABX9TyNG7fB4cdOhirqDysoVuCxk",
      "include_colab_link": true
    },
    "kernelspec": {
      "name": "python3",
      "display_name": "Python 3"
    },
    "language_info": {
      "name": "python"
    }
  },
  "cells": [
    {
      "cell_type": "markdown",
      "metadata": {
        "id": "view-in-github",
        "colab_type": "text"
      },
      "source": [
        "<a href=\"https://colab.research.google.com/github/YunishaBasnet/YunishaBasnet/blob/main/homework2.ipynb\" target=\"_parent\"><img src=\"https://colab.research.google.com/assets/colab-badge.svg\" alt=\"Open In Colab\"/></a>"
      ]
    },
    {
      "cell_type": "code",
      "source": [
        "#Answer of no.1\n",
        "def factor(n):\n",
        "  val=1\n",
        "  for i in range(1, n+1):         \n",
        "    val=val*i           \n",
        "  return val\n",
        "def approx_e(iter):\n",
        "  m=[]\n",
        "  for i in range(0, iter):    #iter = 100 means there will be 100 terms in 1/0!..... \n",
        "    if i==0:\n",
        "      m.append(1)  \n",
        "      continue\n",
        "    m.append(1/factor(i))      #we divide the append with the factorial number\n",
        "  print(sum(m))             \n",
        "approx_e(100)"
      ],
      "metadata": {
        "colab": {
          "base_uri": "https://localhost:8080/"
        },
        "id": "_kEd7yUWHQOf",
        "outputId": "644ba41f-4290-4a65-96ad-cdd1e95f0773"
      },
      "execution_count": null,
      "outputs": [
        {
          "output_type": "stream",
          "name": "stdout",
          "text": [
            "2.7182818284590455\n"
          ]
        }
      ]
    },
    {
      "cell_type": "code",
      "source": [
        "#Answer of 2\n",
        "from math import sqrt\n",
        "seq=[49,8,2,1,102]\n",
        "lst=[]\n",
        "def squares(seq):\n",
        "  for digit in seq:\n",
        "    root=int(sqrt(digit))  #finding the roots.\n",
        "    if (root**2==digit):  #checking whether they are perfect root or not\n",
        "      lst.append(digit)  \n",
        "  return(lst)\n",
        "squares(seq)"
      ],
      "metadata": {
        "colab": {
          "base_uri": "https://localhost:8080/"
        },
        "id": "yyY-6cbtIXne",
        "outputId": "5e3d8f1c-7d88-49bc-c99a-6b43a65aac6a"
      },
      "execution_count": null,
      "outputs": [
        {
          "output_type": "execute_result",
          "data": {
            "text/plain": [
              "[49, 1]"
            ]
          },
          "metadata": {},
          "execution_count": 4
        }
      ]
    },
    {
      "cell_type": "code",
      "source": [
        "#answer of 3#Answer of no.3\n",
        "x=eval(input(\"Enter the number: \"))\n",
        "el=eval(input(\"Enter value \"))\n",
        "lst=[1,2,4,3,1]\n",
        "def add_this_many(x,el,lst):\n",
        "  for num in lst:          \n",
        "    if num==x:              # numbers in list is equal to value of x\n",
        "     c=lst.count(num)     #we count the number in the list \n",
        "  i=1 \n",
        "  while i <= c:               #value of i need to small than c\n",
        "    lst.append(el)              #value of el is done to add x in list \n",
        "    i= i + 1                 \n",
        "  return(lst)\n",
        "add_this_many(x,el,lst)\n"
      ],
      "metadata": {
        "colab": {
          "base_uri": "https://localhost:8080/"
        },
        "id": "SEcwsW5jJaHL",
        "outputId": "b4277339-e154-4ec4-f790-6584b0c80352"
      },
      "execution_count": null,
      "outputs": [
        {
          "name": "stdout",
          "output_type": "stream",
          "text": [
            "Enter the number: 1\n",
            "Enter value 5\n"
          ]
        },
        {
          "output_type": "execute_result",
          "data": {
            "text/plain": [
              "[1, 2, 4, 3, 1, 5, 5]"
            ]
          },
          "metadata": {},
          "execution_count": 8
        }
      ]
    }
  ]
}