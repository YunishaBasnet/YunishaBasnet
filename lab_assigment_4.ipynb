{
  "nbformat": 4,
  "nbformat_minor": 0,
  "metadata": {
    "colab": {
      "provenance": [],
      "authorship_tag": "ABX9TyMARKTWrast/5yWYlayBPtd",
      "include_colab_link": true
    },
    "kernelspec": {
      "name": "python3",
      "display_name": "Python 3"
    },
    "language_info": {
      "name": "python"
    }
  },
  "cells": [
    {
      "cell_type": "markdown",
      "metadata": {
        "id": "view-in-github",
        "colab_type": "text"
      },
      "source": [
        "<a href=\"https://colab.research.google.com/github/YunishaBasnet/YunishaBasnet/blob/main/lab_assigment_4.ipynb\" target=\"_parent\"><img src=\"https://colab.research.google.com/assets/colab-badge.svg\" alt=\"Open In Colab\"/></a>"
      ]
    },
    {
      "cell_type": "code",
      "execution_count": null,
      "metadata": {
        "colab": {
          "base_uri": "https://localhost:8080/"
        },
        "id": "esqGoyX9x03f",
        "outputId": "6386848e-4972-42c3-da36-140fbce67d99"
      },
      "outputs": [
        {
          "output_type": "stream",
          "name": "stdout",
          "text": [
            "eneter the number:16\n",
            "1\n",
            "2\n",
            "3\n",
            "funny\n",
            "5\n",
            "buzz\n",
            "7\n",
            "funny\n",
            "9\n",
            "10\n",
            "11\n",
            "funnybuzz\n",
            "13\n",
            "14\n",
            "15\n",
            "funny\n"
          ]
        }
      ],
      "source": [
        "# answe of 1\n",
        "n= eval(input(\"eneter the number:\"))\n",
        "def funnybuzz():\n",
        "  i = 1\n",
        "  while i<=n:\n",
        "    if i % 4!=0 and i%6!=0:\n",
        "      print(i)\n",
        "      i = i + 1\n",
        "    elif i%4==0:\n",
        "      print('funny')\n",
        "      i = i + 1\n",
        "    elif i %6==0:\n",
        "      print ('buzz')\n",
        "      i = i +1\n",
        "    if i% 4==0 and i %6==0:\n",
        "      print('funnybuzz') \n",
        "      i = i + 1\n",
        "funnybuzz()\n",
        "     "
      ]
    },
    {
      "cell_type": "code",
      "source": [
        "#answer of 2\n",
        "m = eval(input(\"enter a number:\"))\n",
        "n = eval(input(\"enter a number:\"))\n",
        "limit = eval(input(\"enter a number:\"))\n",
        "def multipiles_sum(m,n,limit):\n",
        "  sum = 0\n",
        "  for i in range(0, limit):\n",
        "    if (i%m==0) or (i%n==0):\n",
        "      sum = sum + i\n",
        "  print(sum)\n",
        "multipiles_sum(m,n,limit)"
      ],
      "metadata": {
        "colab": {
          "base_uri": "https://localhost:8080/"
        },
        "id": "QpcJrvt62WsA",
        "outputId": "aadbc642-bc17-4efd-c9ff-e554ec124f30"
      },
      "execution_count": 14,
      "outputs": [
        {
          "output_type": "stream",
          "name": "stdout",
          "text": [
            "enter a number:3\n",
            "enter a number:5\n",
            "enter a number:10\n",
            "23\n"
          ]
        }
      ]
    },
    {
      "cell_type": "code",
      "source": [
        "#answer of 3\n",
        "n = eval(input(\"enter a number:\"))\n",
        "def hailstone(n,c):\n",
        "  print(n, end=\"\")\n",
        "  if (n ==1 and c== 0):\n",
        "    c = c + 1\n",
        "  elif (n==1 and c!=0):\n",
        "    c = c + 1\n",
        "  elif n%2==0:\n",
        "    c = c + 1\n",
        "    c = hailstone (int(n/2),c)\n",
        "  elif n%2!=0:\n",
        "    c = c + 1\n",
        "    c = hailstone(3 * n + 1, c) \n",
        "  return c\n",
        "x = hailstone(n, 0)\n",
        "print(\"\\nNumber of Steps: \", x)\n"
      ],
      "metadata": {
        "colab": {
          "base_uri": "https://localhost:8080/"
        },
        "id": "jj2zXHOEFKXv",
        "outputId": "c0238362-cd7f-4b8d-80b8-614a1e54adf7"
      },
      "execution_count": 28,
      "outputs": [
        {
          "output_type": "stream",
          "name": "stdout",
          "text": [
            "enter a number:7\n",
            "7221134175226134020105168421\n",
            "Number of Steps:  17\n"
          ]
        }
      ]
    },
    {
      "cell_type": "code",
      "source": [
        " #answer of 4\n",
        "n = eval(input(\"enter a number:\"))\n",
        "def nearest(n):\n",
        "  if n > 1:\n",
        "    for i in range (1, round(n)):\n",
        "      if(2**i >= n):\n",
        "     \n",
        "        if (abs((2*i)-n) > abs((2*(i-1))-n)):\n",
        "          return 2**(i-1) \n",
        "        else:\n",
        "          return 2**i\n",
        "  else:\n",
        "    return 1\n",
        "\n",
        "\n",
        "print(nearest(n))"
      ],
      "metadata": {
        "colab": {
          "base_uri": "https://localhost:8080/"
        },
        "id": "HRaYdCrt1KzC",
        "outputId": "56c81141-1c59-4208-d841-505e7d788c61"
      },
      "execution_count": 35,
      "outputs": [
        {
          "output_type": "stream",
          "name": "stdout",
          "text": [
            "enter a number:0.75\n",
            "1\n"
          ]
        }
      ]
    },
    {
      "cell_type": "code",
      "source": [
        "#answer of 5\n",
        "m =eval(input(\"enter a number:\"))\n",
        "fac= []\n",
        "for i in range(1, m+1):\n",
        "  if m%i==0:\n",
        "    fac.append(int(i))\n",
        "def check(m):\n",
        "  j=1\n",
        "  n=fac[j-1] *fac[-j]\n",
        "  count=0\n",
        "  while n==m:\n",
        "    print(fac[j-1],\"*\",fac[-j],\"=\",n)\n",
        "    count = count +1\n",
        "    j=j+1\n",
        "    if j>len(fac) or count>len(fac)/2:\n",
        "      break\n",
        "    fac.remove(m)\n",
        "    if sum(fac)>m:\n",
        "        return True\n",
        "    else:\n",
        "        return False\n",
        "check(m)\n"
      ],
      "metadata": {
        "colab": {
          "base_uri": "https://localhost:8080/"
        },
        "id": "VGqG0J0S7zGh",
        "outputId": "05dfe5e9-d4d2-43e2-f7c1-9736eaa55f4d"
      },
      "execution_count": null,
      "outputs": [
        {
          "output_type": "stream",
          "name": "stdout",
          "text": [
            "enter a number:12\n",
            "1 * 12 = 12\n"
          ]
        },
        {
          "output_type": "execute_result",
          "data": {
            "text/plain": [
              "True"
            ]
          },
          "metadata": {},
          "execution_count": 2
        }
      ]
    }
  ]
}