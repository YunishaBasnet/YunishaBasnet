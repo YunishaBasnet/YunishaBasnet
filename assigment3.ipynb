{
  "nbformat": 4,
  "nbformat_minor": 0,
  "metadata": {
    "colab": {
      "provenance": [],
      "authorship_tag": "ABX9TyOyzS7JTwInHNpB4J+tQsvt",
      "include_colab_link": true
    },
    "kernelspec": {
      "name": "python3",
      "display_name": "Python 3"
    },
    "language_info": {
      "name": "python"
    }
  },
  "cells": [
    {
      "cell_type": "markdown",
      "metadata": {
        "id": "view-in-github",
        "colab_type": "text"
      },
      "source": [
        "<a href=\"https://colab.research.google.com/github/YunishaBasnet/YunishaBasnet/blob/main/assigment3.ipynb\" target=\"_parent\"><img src=\"https://colab.research.google.com/assets/colab-badge.svg\" alt=\"Open In Colab\"/></a>"
      ]
    },
    {
      "cell_type": "code",
      "source": [
        "#answer 1\n",
        "a = eval(input(\"enter a number:\"))\n",
        "b = eval(input(\"enter a number:\"))\n",
        "c = eval(input(\"enter a number:\"))\n",
        "def is_equal(a,b,c):\n",
        "  if (a==b) and (a!=c):\n",
        "    return(True)\n",
        "  elif (a==c) and (a!=b):\n",
        "    return(True)\n",
        "  elif (b==c) and (b!=c):\n",
        "    return(True)\n",
        "  else:\n",
        "    return(False) \n",
        "is_equal(a,b,c)"
      ],
      "metadata": {
        "colab": {
          "base_uri": "https://localhost:8080/"
        },
        "id": "l8420RgIkItn",
        "outputId": "83cdac16-dc84-44bf-c572-d5cf32c80e7c"
      },
      "execution_count": 4,
      "outputs": [
        {
          "name": "stdout",
          "output_type": "stream",
          "text": [
            "enter a number:-1\n",
            "enter a number:5\n",
            "enter a number:-1\n"
          ]
        },
        {
          "output_type": "execute_result",
          "data": {
            "text/plain": [
              "True"
            ]
          },
          "metadata": {},
          "execution_count": 4
        }
      ]
    },
    {
      "cell_type": "code",
      "source": [
        "#answer 2\n",
        "a = eval(input(\"enter a number:\"))\n",
        "b = eval(input(\"enter a number:\"))\n",
        "c = eval(input(\"enter a number:\"))\n",
        "def sub_equal(a,b,c):\n",
        "  if (a-b)==c:\n",
        "    print(True)\n",
        "  elif (c-b)==a:\n",
        "    print(True)\n",
        "  elif (b-c)==a:\n",
        "    print(True)\n",
        "  else:\n",
        "    print(False)\n",
        "sub_equal(a,b,c)"
      ],
      "metadata": {
        "colab": {
          "base_uri": "https://localhost:8080/"
        },
        "id": "S5IIcwrbRNOr",
        "outputId": "5bb85401-1fc5-47bf-e27b-bc7fbce7bfdd"
      },
      "execution_count": null,
      "outputs": [
        {
          "output_type": "stream",
          "name": "stdout",
          "text": [
            "enter a number:10\n",
            "enter a number:6\n",
            "enter a number:3\n",
            "False\n"
          ]
        }
      ]
    },
    {
      "cell_type": "code",
      "source": [
        "#answer 3\n",
        "a = eval(input(\"enter a number:\"))\n",
        "b = eval(input(\"enter a number:\"))\n",
        "def factor_equal(a,b):\n",
        "  while(a!=0 and b!=0):\n",
        "    if (b%a==0) or (a%b==0):\n",
        "      return True\n",
        "    if (a==0) and (b==0):\n",
        "      return False\n",
        "    else:\n",
        "      return False\n",
        "factor_equal(a,b)\n"
      ],
      "metadata": {
        "id": "C_htlyftTL4M",
        "colab": {
          "base_uri": "https://localhost:8080/"
        },
        "outputId": "ac9d75c1-41f5-4c4d-ee3e-31b60d8223cd"
      },
      "execution_count": 5,
      "outputs": [
        {
          "name": "stdout",
          "output_type": "stream",
          "text": [
            "enter a number:3\n",
            "enter a number:6\n"
          ]
        },
        {
          "output_type": "execute_result",
          "data": {
            "text/plain": [
              "True"
            ]
          },
          "metadata": {},
          "execution_count": 5
        }
      ]
    },
    {
      "cell_type": "code",
      "source": [
        "#answer 4\n",
        "n = eval(input(\"enter a number:\"))\n",
        "def factor(n):\n",
        "  for i in range (1,n+1):\n",
        "    if n%i==0:\n",
        "      print(i)\n",
        "factor(n)"
      ],
      "metadata": {
        "colab": {
          "base_uri": "https://localhost:8080/"
        },
        "id": "uUXKz8LuU5DN",
        "outputId": "edac01fa-2d1f-429f-aa15-c99bf20e8675"
      },
      "execution_count": null,
      "outputs": [
        {
          "output_type": "stream",
          "name": "stdout",
          "text": [
            "enter a number:12\n",
            "1\n",
            "2\n",
            "3\n",
            "4\n",
            "6\n",
            "12\n"
          ]
        }
      ]
    },
    {
      "cell_type": "code",
      "source": [
        "#answer 5\n",
        "n = eval(input(\"enter a number:\"))\n",
        "def lrgst_fact(n):\n",
        "  for i in range(n-1,0,-1):\n",
        "    if(n%i==0):\n",
        "      return i \n",
        "lrgst_fact(n)"
      ],
      "metadata": {
        "colab": {
          "base_uri": "https://localhost:8080/"
        },
        "id": "zrMxoDwt97Mr",
        "outputId": "c2a6dec8-065d-419f-e8d5-f62f958614a1"
      },
      "execution_count": 6,
      "outputs": [
        {
          "name": "stdout",
          "output_type": "stream",
          "text": [
            "enter a number:80\n"
          ]
        },
        {
          "output_type": "execute_result",
          "data": {
            "text/plain": [
              "40"
            ]
          },
          "metadata": {},
          "execution_count": 6
        }
      ]
    }
  ]
}