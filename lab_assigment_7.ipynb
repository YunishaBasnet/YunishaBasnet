{
  "nbformat": 4,
  "nbformat_minor": 0,
  "metadata": {
    "colab": {
      "provenance": [],
      "authorship_tag": "ABX9TyPTDFBKNus96hiy/zKqtuau",
      "include_colab_link": true
    },
    "kernelspec": {
      "name": "python3",
      "display_name": "Python 3"
    },
    "language_info": {
      "name": "python"
    }
  },
  "cells": [
    {
      "cell_type": "markdown",
      "metadata": {
        "id": "view-in-github",
        "colab_type": "text"
      },
      "source": [
        "<a href=\"https://colab.research.google.com/github/YunishaBasnet/YunishaBasnet/blob/main/lab_assigment_7.ipynb\" target=\"_parent\"><img src=\"https://colab.research.google.com/assets/colab-badge.svg\" alt=\"Open In Colab\"/></a>"
      ]
    },
    {
      "cell_type": "code",
      "source": [
        "# Answer 1\n",
        "import random\n",
        "n = eval(input(\"enter the internal of the darts thrown:\"))\n",
        "circle = 0\n",
        "h = 0\n",
        "for i in range(n**2):  #random numbers generated = x values* y value.\n",
        "\trand_x = random.uniform(-1, 1) #range of x and y is (-1,1)\n",
        "\trand_y = random.uniform(-1, 1)\n",
        "\tdistance = rand_x**2 + rand_y**2 #to find the original distance of (x,y)\n",
        "\tif distance <= 1: # checking if the value of(x,y) is less than value inside the circle\n",
        "\t\tcircle += 1\n",
        "\th += 1\n",
        "\tpi = 4 * circle / h #estimating the value of pi\n",
        "print(\"Final Estimation of Pi=\", pi)\n"
      ],
      "metadata": {
        "colab": {
          "base_uri": "https://localhost:8080/"
        },
        "id": "r05WVGuwobnS",
        "outputId": "d46df249-96b1-4a60-cdd0-4114c3e8fbb7"
      },
      "execution_count": null,
      "outputs": [
        {
          "output_type": "stream",
          "name": "stdout",
          "text": [
            "enter the internal of the darts thrown:100\n",
            "Final Estimation of Pi= 3.1212\n"
          ]
        }
      ]
    },
    {
      "cell_type": "code",
      "source": [
        "# Answer 2\n",
        "import random\n",
        "n = eval(input(\"enter the random steps:\"))\n",
        "direction = ['front','back']\n",
        "start = 0\n",
        "for i in range(n):\n",
        "  step = random.choice(direction) #random choice to make whether he moves forward or back ward.\n",
        "  if step==\"front\":\n",
        "    start +=1\n",
        "    continue\n",
        "  else:\n",
        "    start -=1\n",
        "new = start \n",
        "if new==0:\n",
        "  print(\"you have came where you were in beinging.\") \n",
        "elif new <1:\n",
        "  print(\"you have came\" +str(abs(new))+ \"steps backward.\")\n",
        "else:\n",
        "  print(\"you have came\" +str(abs(new))+ \"steps forward.\")\n",
        "\n",
        "\n"
      ],
      "metadata": {
        "colab": {
          "base_uri": "https://localhost:8080/"
        },
        "id": "h6rCQ88puyWY",
        "outputId": "957d95a0-0fbb-4598-c6c9-f13ab4c9a905"
      },
      "execution_count": null,
      "outputs": [
        {
          "output_type": "stream",
          "name": "stdout",
          "text": [
            "enter the random steps:8\n",
            "you have came2steps forward.\n"
          ]
        }
      ]
    }
  ]
}