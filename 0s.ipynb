{
  "nbformat": 4,
  "nbformat_minor": 0,
  "metadata": {
    "colab": {
      "provenance": [],
      "authorship_tag": "ABX9TyN2eSC4FWKezWnXUhApZlt5",
      "include_colab_link": true
    },
    "kernelspec": {
      "name": "python3",
      "display_name": "Python 3"
    },
    "language_info": {
      "name": "python"
    }
  },
  "cells": [
    {
      "cell_type": "markdown",
      "metadata": {
        "id": "view-in-github",
        "colab_type": "text"
      },
      "source": [
        "<a href=\"https://colab.research.google.com/github/YunishaBasnet/YunishaBasnet/blob/main/0s.ipynb\" target=\"_parent\"><img src=\"https://colab.research.google.com/assets/colab-badge.svg\" alt=\"Open In Colab\"/></a>"
      ]
    },
    {
      "cell_type": "code",
      "source": [
        "#answe of question no.1\n",
        "def convert_to_base(num, base):\n",
        "    # Convert num to base 10\n",
        "    num_parts = num.split('-')\n",
        "    middle_num = int(num_parts[1])\n",
        "\n",
        "    if base < middle_num:\n",
        "        new_nums = []\n",
        "        for part in num_parts:\n",
        "            new_nums.append(str(int(part, base)))\n",
        "        base_num = '-'.join(new_nums)\n",
        "    elif base > middle_num:\n",
        "        print(\"Invalid, base should be smaller.\")\n",
        "        return\n",
        "    else:\n",
        "        base_num = num\n",
        "\n",
        "    # Convert base_num to base 10 (new_base is always 10)\n",
        "    new_base_num = '-'.join(str(int(part, 10)) for part in base_num.split('-'))\n",
        "\n",
        "    print(\"Number:\", num)\n",
        "    print(\"Base:\", base)\n",
        "    print(\"Base_num:\", base_num)\n",
        "    print(\"New_base_num:\", new_base_num)\n",
        "\n",
        "# Get user input\n",
        "input_num = input(\"Enter the number in hyphen format (e.g., 123-33-4): \")\n",
        "base = int(input(\"Enter the base to compare with the middle number: \"))\n",
        "\n",
        "# Call the function to convert if necessary\n",
        "convert_to_base(input_num, base)\n"
      ],
      "metadata": {
        "colab": {
          "base_uri": "https://localhost:8080/"
        },
        "id": "IyShjNdmG3LE",
        "outputId": "d87c03bf-77a3-48a2-e2c3-da42d38f2b1b"
      },
      "execution_count": 17,
      "outputs": [
        {
          "output_type": "stream",
          "name": "stdout",
          "text": [
            "Enter the number in hyphen format (e.g., 123-33-4): 123-33-5\n",
            "Enter the base to compare with the middle number: 44\n",
            "Invalid, base should be smaller.\n"
          ]
        }
      ]
    },
    {
      "cell_type": "code",
      "source": [
        "#answer of 2\n",
        "def float_to_14bit_binary(decimal_number):\n",
        "    # Check if the number is negative\n",
        "    is_negative = False\n",
        "    if decimal_number < 0:\n",
        "        is_negative = True\n",
        "        decimal_number = abs(decimal_number)\n",
        "\n",
        "    # Separate the integer and fractional parts\n",
        "    integer_part = int(decimal_number)\n",
        "    fractional_part = decimal_number - integer_part\n",
        "\n",
        "    # Convert the integer part to binary\n",
        "    integer_binary = bin(integer_part)[2:].zfill(7)  # 7 bits for integer part\n",
        "\n",
        "    # Convert the fractional part to binary\n",
        "    fractional_binary = \"\"\n",
        "    for _ in range(7):  # 7 bits for fractional part\n",
        "        fractional_part *= 2\n",
        "        bit = int(fractional_part)\n",
        "        fractional_binary += str(bit)\n",
        "        fractional_part -= bit\n",
        "\n",
        "    # Combine the sign, integer, and fractional parts to form the 14-bit binary representation\n",
        "    binary_representation = \"1\" if is_negative else \"0\"\n",
        "    binary_representation += integer_binary + fractional_binary\n",
        "\n",
        "    return binary_representation\n",
        "\n",
        "# Get user input for the decimal number\n",
        "try:\n",
        "    user_input = float(input(\"Enter a decimal number: \"))\n",
        "    binary_representation = float_to_14bit_binary(user_input)\n",
        "    print(f\"Decimal Number: {user_input}\")\n",
        "    print(f\"14-Bit Binary Representation: {binary_representation}\")\n",
        "except ValueError:\n",
        "    print(\"Invalid input. Please enter a valid decimal number.\")\n"
      ],
      "metadata": {
        "colab": {
          "base_uri": "https://localhost:8080/"
        },
        "id": "E-b8ysua1xsa",
        "outputId": "07fb8cd7-a61a-42cb-9092-c4c98bbca4cc"
      },
      "execution_count": null,
      "outputs": [
        {
          "output_type": "stream",
          "name": "stdout",
          "text": [
            "Enter a decimal number: 26.625\n",
            "Decimal Number: 26.625\n",
            "14-Bit Binary Representation: 000110101010000\n"
          ]
        }
      ]
    }
  ]
}