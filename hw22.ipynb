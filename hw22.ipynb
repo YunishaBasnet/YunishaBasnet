{
  "nbformat": 4,
  "nbformat_minor": 0,
  "metadata": {
    "colab": {
      "private_outputs": true,
      "provenance": [],
      "authorship_tag": "ABX9TyMCojjGSbcMBvt4suaeMyYC",
      "include_colab_link": true
    },
    "kernelspec": {
      "name": "python3",
      "display_name": "Python 3"
    },
    "language_info": {
      "name": "python"
    }
  },
  "cells": [
    {
      "cell_type": "markdown",
      "metadata": {
        "id": "view-in-github",
        "colab_type": "text"
      },
      "source": [
        "<a href=\"https://colab.research.google.com/github/YunishaBasnet/YunishaBasnet/blob/main/hw22.ipynb\" target=\"_parent\"><img src=\"https://colab.research.google.com/assets/colab-badge.svg\" alt=\"Open In Colab\"/></a>"
      ]
    },
    {
      "cell_type": "code",
      "source": [
        "def encoding(msg, poly):\n",
        "    while len(msg) < 16:\n",
        "        msg = '0' + msg\n",
        "\n",
        "    remainder = '1111'\n",
        "\n",
        "    for i in range(len(msg)):\n",
        "        if msg[i] == '1':\n",
        "            remainder = remainder[1:] + msg[i]\n",
        "            remainder = ''.join(['1' if remainder[j] != poly[j] else '0' for j in range(4)])\n",
        "\n",
        "    return msg + remainder\n",
        "\n",
        "def decoding(msg, poly):\n",
        "    remainder = '1111'\n",
        "\n",
        "    for i in range(len(msg) - 4):\n",
        "        if msg[i] == '1':\n",
        "            remainder = remainder[1:] + msg[i]\n",
        "            remainder = ''.join(['1' if remainder[j] != poly[j] else '0' for j in range(4)])\n",
        "\n",
        "    if remainder == '0000':\n",
        "        return 'No error'\n",
        "    else:\n",
        "        return 'Error'\n",
        "\n",
        "# Get user input for original binary data and CRC polynomial\n",
        "org_sig = input(\"Enter the original binary data (4 bits): \")\n",
        "poly = input(\"Enter the CRC polynomial : \")\n",
        "\n",
        "# Ensure the input lengths are correct\n",
        "if len(org_sig) != 4 or len(poly) != 6:\n",
        "    print(\"Invalid input lengths. The original data should be 4 bits, and the polynomial should be 6 bits.\")\n",
        "else:\n",
        "    encoded_output = encoding(org_sig, poly)\n",
        "    print(\"Encoded output:\", encoded_output)\n",
        "\n",
        "    received_sig = input(\"Enter the received message: \")\n",
        "    decoding_result = decoding(received_sig, poly)\n",
        "    print(\"Decoding result:\", decoding_result)\n"
      ],
      "metadata": {
        "id": "sz-7m61Knj0n"
      },
      "execution_count": null,
      "outputs": []
    },
    {
      "cell_type": "code",
      "source": [
        "def HammingCode(data, k):\n",
        "    N = len(data)\n",
        "    P = []\n",
        "    C = []\n",
        "\n",
        "    # Determine Parity Bits\n",
        "    for i in range(N):\n",
        "        p = data[i]\n",
        "        c = [0]*(k+1)\n",
        "        for j in range(k+1):\n",
        "            if p&1:\n",
        "                c[j] = 1\n",
        "            p >>= 1\n",
        "        C.append(c)\n",
        "\n",
        "    # XOR operation for generating parity bits\n",
        "    for j in range(k+1):\n",
        "        for i in range(N):\n",
        "            if (j==0 or j>i+1):\n",
        "                P.append(0)\n",
        "            else:\n",
        "                p = 0\n",
        "                for l in range(i+1):\n",
        "                    p ^= C[l][j-1]\n",
        "                P.append(p)\n",
        "\n",
        "    # Inserting parity bits\n",
        "    parity = 0\n",
        "    encoded = []\n",
        "    for i in range(N):\n",
        "        for j in range(k+1):\n",
        "            if parity == k+1-j:\n",
        "                encoded.append(P[i])\n",
        "            encoded.append(C[i][j])\n",
        "\n",
        "    return encoded\n",
        "\n",
        "\n",
        "def main():\n",
        "    data = [1, 0, 1, 1, 0, 1, 0, 1]\n",
        "    k = 3\n",
        "    encoded = HammingCode(data, k)\n",
        "    print(f\"Encoded Data: {encoded}\")\n",
        "\n",
        "    received = [1, 0, 1, 0, 0, 1, 0, 1, 0, 0, 0, 0, 0, 0, 0, 0]\n",
        "    error = received.index(1)\n",
        "    print(f\"Received Data with error at position {error+1}: {received}\")\n",
        "\n",
        "    decoded = HammingCode(received, k)\n",
        "    print(f\"Decoded Data: {decoded}\")\n",
        "\n",
        "\n",
        "if __name__ == \"__main__\":\n",
        "    main()"
      ],
      "metadata": {
        "id": "Gfl1_b2wnz8R"
      },
      "execution_count": null,
      "outputs": []
    },
    {
      "cell_type": "code",
      "source": [],
      "metadata": {
        "id": "8O27r7m7rDuE"
      },
      "execution_count": null,
      "outputs": []
    }
  ]
}