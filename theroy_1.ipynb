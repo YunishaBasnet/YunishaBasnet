{
  "nbformat": 4,
  "nbformat_minor": 0,
  "metadata": {
    "colab": {
      "provenance": [],
      "authorship_tag": "ABX9TyPe0ry4GIjRDz8pURVXb8sV",
      "include_colab_link": true
    },
    "kernelspec": {
      "name": "python3",
      "display_name": "Python 3"
    },
    "language_info": {
      "name": "python"
    }
  },
  "cells": [
    {
      "cell_type": "markdown",
      "metadata": {
        "id": "view-in-github",
        "colab_type": "text"
      },
      "source": [
        "<a href=\"https://colab.research.google.com/github/YunishaBasnet/YunishaBasnet/blob/main/theroy_1.ipynb\" target=\"_parent\"><img src=\"https://colab.research.google.com/assets/colab-badge.svg\" alt=\"Open In Colab\"/></a>"
      ]
    },
    {
      "cell_type": "markdown",
      "source": [
        "**Question 1:**\n",
        "For any string str, generate a function to reverse the order of characters in each word \n",
        "within a sentence while still preserving whitespace and initial word order, such as follows"
      ],
      "metadata": {
        "id": "egQeG4GLqf2G"
      }
    },
    {
      "cell_type": "code",
      "source": [
        "# input = Hello, Python\n",
        "# output = olleH, nothyP \n",
        "def reverse_string(text):\n",
        "  words = text.split()         \n",
        "  n=[]                         # we took a black string so we don't need if condition.\n",
        "  for i in words:              #  we took a loop.\n",
        "    n.append(i[::-1])   # it a string where the words are subracted it one by one \n",
        "      # 1st string will be e then l......to p\n",
        "    space = \"\".join(n)   # it will help to join the word to together insted of ['olleH', ',', 'nohtyP'] giving this result.\n",
        "  print(space)                 \n",
        "reverse_string(\"Hello , Python\")"
      ],
      "metadata": {
        "colab": {
          "base_uri": "https://localhost:8080/"
        },
        "id": "pwBgAx8JqysN",
        "outputId": "ccde6390-4e96-43d6-f4f0-e3400c5832b0"
      },
      "execution_count": 1,
      "outputs": [
        {
          "output_type": "stream",
          "name": "stdout",
          "text": [
            "olleH,nohtyP\n"
          ]
        }
      ]
    },
    {
      "cell_type": "markdown",
      "source": [
        "**Question 2:**\n",
        "Write the function to process a list of integers nums and an integer target, return indices \n",
        "of the two numbers such that they add up to target. You may assume that each input \n",
        "would have exactly one solution, and you may not use the same element twice. You can \n",
        "return the answer in any order."
      ],
      "metadata": {
        "id": "YClBNFyYdwE7"
      }
    },
    {
      "cell_type": "code",
      "source": [
        "class Solution(object):   # class is a doc-string which create local name space where solution and object define class.\n",
        "    def twoSum(self, num, target):\n",
        "        ans = [] #empty dictionary string.\n",
        "        for i in range(len(num) - 1): #outer loop which see all the number except last.\n",
        "            for j in range(i + 1, len(num)): #inner loop which start from outer loop tp end.\n",
        "                s = num[i] + num[j]\n",
        "                if s == target:\n",
        "                    ans.append((i, j)) #it is parameter which determine whether it output is what we want or not.\n",
        "        return ans #if  ouptup is not what we want it return to outer loop.\n",
        "\n",
        "print(Solution().twoSum([1,2,3,4], 7))"
      ],
      "metadata": {
        "colab": {
          "base_uri": "https://localhost:8080/"
        },
        "id": "CFBktBjblf8C",
        "outputId": "487765ca-bd57-45aa-e20a-d96913069db4"
      },
      "execution_count": 2,
      "outputs": [
        {
          "output_type": "stream",
          "name": "stdout",
          "text": [
            "[(2, 3)]\n"
          ]
        }
      ]
    },
    {
      "cell_type": "markdown",
      "source": [
        "**Question 3:**\n",
        "For an integer n, write a function to return true if n is palindrome integer. For \n",
        "example, 121 is a palindrome because the reverse sequence of 121 is still 121 \n",
        "while 123 is not"
      ],
      "metadata": {
        "id": "_PVuaW4CqOrY"
      }
    },
    {
      "cell_type": "code",
      "source": [
        "# the first is taken input and then it does[start:slice:end] operator which is slice.\n",
        "def palindrome(num):\n",
        "  num=int(input(\"Enter a number:\"))\n",
        "  temp=num #store the value\n",
        "  rev=0\n",
        "  while(num>0): #value less than 0 won't enter the loop.\n",
        "    a=num % 10 #number should be divide by the 10\n",
        "    rev= rev * 10 + a #rev number is 0 in being where the 1st value is a\n",
        "    num=num//10 # floor divisor is used so we don't get value in decimal\n",
        "  if(temp==rev): # it checks the store value and reverse value are same or not\n",
        "      print(True)\n",
        "  else:\n",
        "      print(False)\n",
        "      \n",
        "palindrome(num)"
      ],
      "metadata": {
        "colab": {
          "base_uri": "https://localhost:8080/"
        },
        "id": "8V6j-E84tKoW",
        "outputId": "1e9ac9d3-4545-4138-cb51-ab3d60cfc5db"
      },
      "execution_count": 27,
      "outputs": [
        {
          "output_type": "stream",
          "name": "stdout",
          "text": [
            "Enter a number:121\n",
            "True\n"
          ]
        }
      ]
    },
    {
      "cell_type": "markdown",
      "source": [
        "**Question 4:**\n",
        "Create a function to find the longest common prefix string amongst a list of strings.\n",
        "If there is no common prefix, return an empty string \"\". "
      ],
      "metadata": {
        "id": "Vgkr1MK2vU6C"
      }
    },
    {
      "cell_type": "code",
      "source": [
        "def common_prefix(a):\n",
        "  if not a:\n",
        "    return \"\" #empty shell.\n",
        "  short_str = min(a,key=len) #min helps to find small items in an iterable\n",
        "  for i, char in enumerate(short_str): #it counts the number and return the value\n",
        "        for other in a:\n",
        "            if other[i] != char: #letters are checked whether it match or not.\n",
        "                return short_str[:i] #it return the value in if function\n",
        "  return short_str  #it return the value in for loop\n",
        "print(common_prefix([\"michael\",\"michelle\",\"mitch\"]))\n"
      ],
      "metadata": {
        "colab": {
          "base_uri": "https://localhost:8080/"
        },
        "id": "4oUQLCxHFcjD",
        "outputId": "458cc611-0fb4-467e-c4dc-90d3487fac47"
      },
      "execution_count": 8,
      "outputs": [
        {
          "output_type": "stream",
          "name": "stdout",
          "text": [
            "mi\n"
          ]
        }
      ]
    },
    {
      "cell_type": "markdown",
      "source": [
        "**Question 5**:\n",
        "Write a program that approximates the value of pi by summing the terms of this series: 4\n",
        "1\n",
        "―4\n",
        "3 + 4\n",
        "5 ―4\n",
        "7 + 4\n",
        "9 ― 4\n",
        "11 +... The program should prompt the user for n, the number of terms \n",
        "to sum, and then output the sum of the first n terms of this series. Have your program \n",
        "subtract the approximation from the value of math. pi to see how accurate it is.\n",
        "\n"
      ],
      "metadata": {
        "id": "RbcPxUlnELkI"
      }
    },
    {
      "cell_type": "code",
      "source": [
        "def main():\n",
        "    n = int(input(\"Please enter a value for N:\"))\n",
        "    total=0     \n",
        "    for i in range(1,n):  # n can be any number and iterable conintues until we reach n.\n",
        "        total += (-1)**(i+1)*((1.0/(i+i+1)))    #addition is done with i in loop\n",
        "    value = 4*(1-total)\n",
        "    print(value)\n",
        "main()"
      ],
      "metadata": {
        "colab": {
          "base_uri": "https://localhost:8080/"
        },
        "id": "uqpTM1aCNJ18",
        "outputId": "3e1e1201-de36-4645-c22b-c1d5eb495e5f"
      },
      "execution_count": 24,
      "outputs": [
        {
          "output_type": "stream",
          "name": "stdout",
          "text": [
            "Please enter a value for N:1000\n",
            "3.1405926538397924\n"
          ]
        }
      ]
    },
    {
      "cell_type": "markdown",
      "source": [
        "**Question 6:**\n",
        "You have seen that the math library contains a function that computes the square root of \n",
        "numbers. In this exercise, you are to write your own algorithm for computing square \n",
        "roots. One way to solve this problem is to use a guess-and -check approach. You first \n",
        "guess what the square root might be, and then see how close your guess is. You can use \n",
        "this information to make another guess and continue guessing until you have found the \n",
        "square root (or a close approximation to it). One particularly good way of making guesses \n",
        "is to use Newton's method. Suppose x is the number we want the root of, and guess is the \n",
        "current guessed answer. The guess can be improved by using computing the next guess as: \n",
        "𝑔𝑢𝑒𝑠𝑠+ 𝑥\n",
        "𝑔𝑢𝑒𝑠𝑠\n",
        "2\n",
        "Write a program that implements Newton's method. The program should prompt the user \n",
        "for the value to find the square root of (x) and the number of times to improve the guess. \n",
        "Starting with a guess value of 𝑥\n",
        "2, your program should loop the specified number of times \n",
        "applying Newton's method and report the final value of guess. You should also subtract \n",
        "your estimate from the value of math. sqrt (x) to show how close it is."
      ],
      "metadata": {
        "id": "HunVWDBjOHk8"
      }
    },
    {
      "cell_type": "code",
      "source": [
        "import math\n",
        "def newton(x, iteration):\n",
        "  i = 1\n",
        "  guess = x/2\n",
        "  while i<=iteration:\n",
        "    guess=(guess+(x/guess))/2.0\n",
        "    i +=1\n",
        "result = newton(16,4)\n",
        "print(newton(result,'\\nDifference with the square root of x:', result -(math.sqrt(16)))) "
      ],
      "metadata": {
        "colab": {
          "base_uri": "https://localhost:8080/",
          "height": 204
        },
        "id": "S9HpwgG4OSuw",
        "outputId": "b4e30ee7-8cea-488d-f53f-b3a1d28033b1"
      },
      "execution_count": 38,
      "outputs": [
        {
          "output_type": "error",
          "ename": "TypeError",
          "evalue": "ignored",
          "traceback": [
            "\u001b[0;31m---------------------------------------------------------------------------\u001b[0m",
            "\u001b[0;31mTypeError\u001b[0m                                 Traceback (most recent call last)",
            "\u001b[0;32m<ipython-input-38-e1ad9443f6df>\u001b[0m in \u001b[0;36m<module>\u001b[0;34m\u001b[0m\n\u001b[1;32m      7\u001b[0m     \u001b[0mi\u001b[0m \u001b[0;34m+=\u001b[0m\u001b[0;36m1\u001b[0m\u001b[0;34m\u001b[0m\u001b[0;34m\u001b[0m\u001b[0m\n\u001b[1;32m      8\u001b[0m \u001b[0mresult\u001b[0m \u001b[0;34m=\u001b[0m \u001b[0mnewton\u001b[0m\u001b[0;34m(\u001b[0m\u001b[0;36m16\u001b[0m\u001b[0;34m,\u001b[0m\u001b[0;36m4\u001b[0m\u001b[0;34m)\u001b[0m\u001b[0;34m\u001b[0m\u001b[0;34m\u001b[0m\u001b[0m\n\u001b[0;32m----> 9\u001b[0;31m \u001b[0mprint\u001b[0m\u001b[0;34m(\u001b[0m\u001b[0mnewton\u001b[0m\u001b[0;34m(\u001b[0m\u001b[0mresult\u001b[0m\u001b[0;34m,\u001b[0m\u001b[0;34m'\\nDifference with the square root of x:'\u001b[0m\u001b[0;34m,\u001b[0m \u001b[0mresult\u001b[0m \u001b[0;34m-\u001b[0m\u001b[0;34m(\u001b[0m\u001b[0mmath\u001b[0m\u001b[0;34m.\u001b[0m\u001b[0msqrt\u001b[0m\u001b[0;34m(\u001b[0m\u001b[0;36m16\u001b[0m\u001b[0;34m)\u001b[0m\u001b[0;34m)\u001b[0m\u001b[0;34m)\u001b[0m\u001b[0;34m)\u001b[0m\u001b[0;34m\u001b[0m\u001b[0;34m\u001b[0m\u001b[0m\n\u001b[0m",
            "\u001b[0;31mTypeError\u001b[0m: unsupported operand type(s) for -: 'NoneType' and 'float'"
          ]
        }
      ]
    },
    {
      "cell_type": "code",
      "source": [
        "def squareRoot(n, l) :\n",
        "  x = n # assuming the sqrt of n\n",
        "  count = 0 # count the number of iteration.\n",
        "  while (1) :\n",
        "        count += 1 \n",
        "        root = 0.5 * (x + (n / x)) \n",
        "        if (abs(root - x) < l) : #doesn't let it go in negative .\n",
        "            break\n",
        "        x = root #check the root to update.\n",
        "  return root #end the while loop when the iteration is over.\n",
        " \n",
        "if __name__ == \"__main__\" :#call the def squareRoot.\n",
        "    n = 327\n",
        "    l = 0.00001\n",
        " \n",
        "print( squareRoot (n, l)) #caluate and print the value."
      ],
      "metadata": {
        "colab": {
          "base_uri": "https://localhost:8080/"
        },
        "id": "tsMLZOP2S143",
        "outputId": "208adff5-e94b-4ba4-9e6e-d053aea88f22"
      },
      "execution_count": 48,
      "outputs": [
        {
          "output_type": "stream",
          "name": "stdout",
          "text": [
            "18.083141320025124\n"
          ]
        }
      ]
    }
  ]
}