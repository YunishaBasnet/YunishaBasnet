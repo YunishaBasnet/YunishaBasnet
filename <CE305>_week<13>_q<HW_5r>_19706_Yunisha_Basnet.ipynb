{
  "nbformat": 4,
  "nbformat_minor": 0,
  "metadata": {
    "colab": {
      "private_outputs": true,
      "provenance": [],
      "authorship_tag": "ABX9TyN/iWOJHIalsmIdiwbw8voW",
      "include_colab_link": true
    },
    "kernelspec": {
      "name": "python3",
      "display_name": "Python 3"
    },
    "language_info": {
      "name": "python"
    }
  },
  "cells": [
    {
      "cell_type": "markdown",
      "metadata": {
        "id": "view-in-github",
        "colab_type": "text"
      },
      "source": [
        "<a href=\"https://colab.research.google.com/github/YunishaBasnet/YunishaBasnet/blob/main/%3CCE305%3E_week%3C13%3E_q%3CHW_5r%3E_19706_Yunisha_Basnet.ipynb\" target=\"_parent\"><img src=\"https://colab.research.google.com/assets/colab-badge.svg\" alt=\"Open In Colab\"/></a>"
      ]
    },
    {
      "cell_type": "markdown",
      "source": [
        "## question no.1"
      ],
      "metadata": {
        "id": "Jd4xHz6K06iR"
      }
    },
    {
      "cell_type": "code",
      "source": [
        "# Initializing the memory\n",
        "init_mem = {}\n",
        "\n",
        "# Storing data in memory\n",
        "a = {800: 123}\n",
        "b = {900: 1000}\n",
        "c = {800: 900}\n",
        "d = {1500: 700}\n",
        "\n",
        "def store(storage, elm):\n",
        "    storage.update(elm)\n",
        "    return storage\n",
        "\n",
        "mem = store(init_mem, a)\n",
        "mem = store(mem, b)\n",
        "print('Initial mem', init_mem)\n",
        "mem = store(mem, c)\n",
        "mem = store(mem, d)\n",
        "\n",
        "\n",
        "print('Updated mem', mem)\n",
        "\n",
        "# Loading data from memory using different addressing modes\n",
        "\n",
        "def imm_load_ac(val):\n",
        "    return val\n",
        "\n",
        "ac = imm_load_ac(800)      # ac = 800\n",
        "print('imm_load_ac', ac)\n",
        "\n",
        "def dir_load_ac(storage, val):\n",
        "    return storage[val]\n",
        "\n",
        "ac = dir_load_ac(mem, 800) # ac = 900\n",
        "print('direct_load_ac', ac)\n",
        "\n",
        "def indir_load_ac(storage, val):\n",
        "    # Load accumulator with the value stored at the address stored in the given address (double indirection)\n",
        "    return storage[storage[val]] if isinstance(storage.get(val), int) else storage[val]\n",
        "\n",
        "ac = indir_load_ac(mem, 800) # ac = 1000\n",
        "print('indirect_load_ac', ac)\n",
        "\n",
        "def idx_load_ac(storage, idx, val):\n",
        "    # Load accumulator using Indexed addressing\n",
        "    val_data = storage.get(val, {})\n",
        "    if isinstance(val_data, int):\n",
        "        return val_data\n",
        "    return storage.get(idx, 0)\n",
        "\n",
        "idxreg = 700\n",
        "ac = idx_load_ac(mem, idxreg, 1500) # ac = 700\n",
        "print(\"Indexed Load AC:\", ac)"
      ],
      "metadata": {
        "id": "XGUSmZuF1o-4"
      },
      "execution_count": null,
      "outputs": []
    },
    {
      "cell_type": "markdown",
      "source": [
        "## question no.2"
      ],
      "metadata": {
        "id": "wk11DR-Z05ie"
      }
    },
    {
      "cell_type": "code",
      "source": [
        "init_mem = {}\n",
        "\n",
        "a = {\"00000110101000\": [0, 1, 2, 3, 4, 5, 6, 7]}\n",
        "b = {\"00001110101000\": [10, 11, 12, 13, 14, 15, 16, 17]}\n",
        "c = {\"00011110101000\": [20, 21, 22, 23, 24, 25, 26, 27]}\n",
        "d = {\"00111110101000\": [30, 31, 32, 33, 34, 35, 36, 37]}\n",
        "e = {\"01111110101000\": [40, 41, 42, 43, 44, 45, 46, 47]}\n",
        "\n",
        "def store(storage, elm):\n",
        "    storage.update(elm)\n",
        "    return storage\n",
        "\n",
        "mem = store(init_mem, a)\n",
        "mem = store(mem, b)\n",
        "mem = store(mem, c)\n",
        "mem = store(mem, d)\n",
        "mem = store(mem, e)\n",
        "\n",
        "cache = {\"0000\": [None, [0, 0, 0, 0, 0, 0, 0, 0], 0],\n",
        "         \"0001\": [None, [0, 0, 0, 0, 0, 0, 0, 0], 0],\n",
        "         \"0010\": [None, [0, 0, 0, 0, 0, 0, 0, 0], 0],\n",
        "         \"0011\": [None, [0, 0, 0, 0, 0, 0, 0, 0], 0],\n",
        "         \"0100\": [None, [0, 0, 0, 0, 0, 0, 0, 0], 0],\n",
        "         \"0101\": [None, [0, 0, 0, 0, 0, 0, 0, 0], 0],\n",
        "         \"0110\": [None, [0, 0, 0, 0, 0, 0, 0, 0], 0],\n",
        "         \"0111\": [None, [0, 0, 0, 0, 0, 0, 0, 0], 0],\n",
        "         \"1000\": [None, [0, 0, 0, 0, 0, 0, 0, 0], 0],\n",
        "         \"1001\": [None, [0, 0, 0, 0, 0, 0, 0, 0], 0],\n",
        "         \"1010\": [None, [0, 0, 0, 0, 0, 0, 0, 0], 0],\n",
        "         \"1011\": [None, [0, 0, 0, 0, 0, 0, 0, 0], 0],\n",
        "         \"1100\": [None, [0, 0, 0, 0, 0, 0, 0, 0], 0],\n",
        "         \"1101\": [None, [0, 0, 0, 0, 0, 0, 0, 0], 0],\n",
        "         \"1110\": [None, [0, 0, 0, 0, 0, 0, 0, 0], 0],\n",
        "         \"1111\": [None, [0, 0, 0, 0, 0, 0, 0, 0], 0]}\n",
        "\n",
        "def dir_map_cache(cache, adr, storage):\n",
        "    block = adr[7:11]\n",
        "    tag = adr[:7]\n",
        "    if cache[block][2] == 0:\n",
        "        cache[block] = [tag, storage.get(adr, [0, 0, 0, 0, 0, 0, 0, 0]), 1]\n",
        "    else:\n",
        "        print(f\"Block {block} is occupied\")\n",
        "    return cache\n",
        "\n",
        "adr1 = \"00000110101010\"\n",
        "adr2 = \"00001110101010\"\n",
        "adr3 = \"00011110101111\"\n",
        "\n",
        "cache = dir_map_cache(cache, adr1, mem)\n",
        "cache = dir_map_cache(cache, adr2, mem)\n",
        "cache = dir_map_cache(cache, adr3, mem)\n",
        "\n",
        "print(\"Cache:\", cache)\n",
        "\n",
        "def check_cache(cache, adr):\n",
        "    block = adr[7:11]\n",
        "    if cache[block][2] == 1 and cache[block][0] == adr[:7]:\n",
        "        print(\"Hit\")\n",
        "    else:\n",
        "        print(\"Miss\")\n",
        "\n",
        "check_cache(cache, adr1)\n",
        "check_cache(cache, adr2)\n",
        "check_cache(cache, adr3)\n"
      ],
      "metadata": {
        "id": "jyLgb-O58Fhr"
      },
      "execution_count": null,
      "outputs": []
    },
    {
      "cell_type": "markdown",
      "source": [
        "##answer no3\n"
      ],
      "metadata": {
        "id": "NCifQuPA7BCI"
      }
    },
    {
      "cell_type": "code",
      "source": [
        "init_mem = {}  # Empty memory at the very beginning\n",
        "\n",
        "# Take memory address as the key and all values in the block as the key's value\n",
        "a = {\"00000110101000\": [0, 1, 2, 3, 4, 5, 6, 7]}\n",
        "b = {\"00001110101000\": [10, 11, 12, 13, 14, 15, 16, 17]}\n",
        "c = {\"00011110101000\": [20, 21, 22, 23, 24, 25, 26, 27]}\n",
        "d = {\"00111110101000\": [30, 31, 32, 33, 34, 35, 36, 37]}\n",
        "e = {\"01111110101000\": [40, 41, 42, 43, 44, 45, 46, 47]}\n",
        "\n",
        "def store(storage, elm):\n",
        "    storage.update(elm)\n",
        "    return storage\n",
        "\n",
        "mem = store(init_mem, a)\n",
        "mem = store(mem, b)\n",
        "mem = store(mem, c)\n",
        "mem = store(mem, d)\n",
        "mem = store(mem, e)\n",
        "\n",
        "# Initialize cache\n",
        "# Cache format: key -> block label\n",
        "#               value -> tag(11 bits), values of 8 words, valid(1 bit)\n",
        "# Assume that there are only 4 cache lines\n",
        "cache = {\"blk0\": [\"00000000000\", [0, 0, 0, 0, 0, 0, 0, 0], 0],\n",
        "         \"blk1\": [\"00000000000\", [0, 0, 0, 0, 0, 0, 0, 0], 0],\n",
        "         \"blk2\": [\"00000000000\", [0, 0, 0, 0, 0, 0, 0, 0], 0],\n",
        "         \"blk3\": [\"00000000000\", [0, 0, 0, 0, 0, 0, 0, 0], 0]}\n",
        "\n",
        "def fully_ass_cache(cache, adr, storage):\n",
        "    tag = adr[:11]\n",
        "    block_data = storage.get(adr, [0] * 8)\n",
        "\n",
        "    # Check for an available cache line with a valid bit of 0\n",
        "    for block, block_info in cache.items():\n",
        "        if block_info[2] == 0:\n",
        "            cache[block] = [tag, block_data, 1]\n",
        "            return cache\n",
        "\n",
        "    # If all cache lines are occupied, evict the least recently used line (LRU)\n",
        "    lru_block = min(cache, key=lambda x: cache[x][2])\n",
        "    cache[lru_block] = [tag, block_data, 1]\n",
        "\n",
        "    return cache\n",
        "\n",
        "adr1 = \"00000110101010\"  # hex address: 1AA\n",
        "cache = fully_ass_cache(cache, adr1, mem)\n",
        "\n",
        "adr2 = \"00001110101010\"  # hex address: 3AA\n",
        "cache = fully_ass_cache(cache, adr2, mem)\n",
        "\n",
        "adr3 = \"00011110101111\"  # hex address: 7AF\n",
        "cache = fully_ass_cache(cache, adr3, mem)\n",
        "\n",
        "adr4 = \"00111110101101\"  # hex address: FAD\n",
        "cache = fully_ass_cache(cache, adr4, mem)\n",
        "\n",
        "adr5 = '01111110101110'  # hex address: 1FAE\n",
        "cache = fully_ass_cache(cache, adr5, mem)\n",
        "\n",
        "print(\"Final Cache State:\")\n",
        "for block, block_info in cache.items():\n",
        "    print(f\"{block}: {block_info}\")\n"
      ],
      "metadata": {
        "id": "ONbGCt047AB3"
      },
      "execution_count": null,
      "outputs": []
    },
    {
      "cell_type": "code",
      "source": [],
      "metadata": {
        "id": "O2jOtVJf7H86"
      },
      "execution_count": null,
      "outputs": []
    }
  ]
}