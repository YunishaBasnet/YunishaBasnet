{
  "nbformat": 4,
  "nbformat_minor": 0,
  "metadata": {
    "colab": {
      "provenance": [],
      "authorship_tag": "ABX9TyNRD3wCoLqAGkZbO9CGSCSw",
      "include_colab_link": true
    },
    "kernelspec": {
      "name": "python3",
      "display_name": "Python 3"
    },
    "language_info": {
      "name": "python"
    }
  },
  "cells": [
    {
      "cell_type": "markdown",
      "metadata": {
        "id": "view-in-github",
        "colab_type": "text"
      },
      "source": [
        "<a href=\"https://colab.research.google.com/github/YunishaBasnet/YunishaBasnet/blob/main/assigment_2.ipynb\" target=\"_parent\"><img src=\"https://colab.research.google.com/assets/colab-badge.svg\" alt=\"Open In Colab\"/></a>"
      ]
    },
    {
      "cell_type": "code",
      "execution_count": null,
      "metadata": {
        "colab": {
          "base_uri": "https://localhost:8080/"
        },
        "id": "ltuWPakQ0kW2",
        "outputId": "510a1885-e76e-4730-c35c-8de38d828a11"
      },
      "outputs": [
        {
          "output_type": "execute_result",
          "data": {
            "text/plain": [
              "False"
            ]
          },
          "metadata": {},
          "execution_count": 1
        }
      ],
      "source": [
        "#ans 1\n",
        "def is_odd(n):\n",
        "  if (n%2!=0):\n",
        "    return True\n",
        "  else:\n",
        "    return False\n",
        "is_odd(10)\n",
        "    "
      ]
    },
    {
      "cell_type": "code",
      "source": [
        "#ans 2\n",
        "n= eval(input(\"enter the number:\"))\n",
        "for i in range (n):\n",
        "    if (n%2!=0):\n",
        "      n=n-2\n",
        "      print (n)\n",
        "    if n==1:\n",
        "      break"
      ],
      "metadata": {
        "colab": {
          "base_uri": "https://localhost:8080/"
        },
        "id": "Fd0kgxC01ojc",
        "outputId": "0d8a7282-c4c8-442a-fac8-5d3bf73f45ab"
      },
      "execution_count": null,
      "outputs": [
        {
          "output_type": "stream",
          "name": "stdout",
          "text": [
            "enter the number:13\n",
            "11\n",
            "9\n",
            "7\n",
            "5\n",
            "3\n",
            "1\n"
          ]
        }
      ]
    },
    {
      "cell_type": "code",
      "source": [
        "#ans 3\n",
        "n= eval(input(\"enter the number:\"))\n",
        "def sum_odd(n):\n",
        "  sum = 0\n",
        "  for i in range(n+1):\n",
        "   if(i%2!=0):\n",
        "    sum = sum + i\n",
        "  print(sum)\n",
        "sum_odd(n)"
      ],
      "metadata": {
        "id": "CSfNUtP7FVAL",
        "colab": {
          "base_uri": "https://localhost:8080/"
        },
        "outputId": "75fefdf1-b58f-4cc4-8e7e-278cd9a309d6"
      },
      "execution_count": null,
      "outputs": [
        {
          "output_type": "stream",
          "name": "stdout",
          "text": [
            "enter the number:7\n",
            "16\n"
          ]
        }
      ]
    },
    {
      "cell_type": "code",
      "source": [
        "#ans 4\n",
        "n= eval(input(\"enter the number:\"))\n",
        "def sum_even(n):\n",
        "  sum = 0\n",
        "  for i in range(n+1):\n",
        "    if(i%2==0):\n",
        "      sum = sum + i\n",
        "  print(sum)\n",
        "sum_even(n)"
      ],
      "metadata": {
        "colab": {
          "base_uri": "https://localhost:8080/"
        },
        "id": "CCyzl2N3MGtU",
        "outputId": "d8f10420-08e7-47c1-a7e2-cc1b71a9e2a6"
      },
      "execution_count": null,
      "outputs": [
        {
          "output_type": "stream",
          "name": "stdout",
          "text": [
            "enter the number:4\n",
            "6\n"
          ]
        }
      ]
    },
    {
      "cell_type": "code",
      "source": [
        "#ans 5\n",
        "n= eval(input(\"enter the number:\"))\n",
        "def positive_number(n):\n",
        " for i in range(n+1):\n",
        "  if (n%2==0):\n",
        "       print(n)\n",
        "       n= n - 2\n",
        "  if(n==0):\n",
        "        break\n",
        "  elif (n%2!=0):\n",
        "      print(n/2)\n",
        "\n",
        "positive_number(n)\n"
      ],
      "metadata": {
        "colab": {
          "base_uri": "https://localhost:8080/"
        },
        "id": "cjIB63s5QxiL",
        "outputId": "8d3a5bc6-6216-4a7e-8e93-3729e5c5d4ed"
      },
      "execution_count": null,
      "outputs": [
        {
          "output_type": "stream",
          "name": "stdout",
          "text": [
            "enter the number:10\n",
            "10\n",
            "8\n",
            "6\n",
            "4\n",
            "2\n"
          ]
        }
      ]
    },
    {
      "cell_type": "code",
      "source": [
        "#ans 6\n",
        "a= eval(input(\"enter a number:\"))\n",
        "b= eval(input(\"enter a number:\"))\n",
        "c= eval(input(\"enter a number:\"))\n",
        "def sum_of_square(n):\n",
        "  if (c > a and c > b):\n",
        "    print(a*a + b*b)\n",
        "  elif (b > a and b> c):\n",
        "    print(a**2 + c**2)\n",
        "  elif (a > c and a > b):\n",
        "    print (b**2 + c**2)\n",
        "if(a*2 + b*2 < 10):\n",
        "    print(\"error\")\n",
        "elif(a*2 + c*2 < 10):\n",
        "    print(\"error\")\n",
        "elif(b**2 + c**2 < 10):\n",
        "    print(\"error\")\n",
        "sum_of_square(n)\n"
      ],
      "metadata": {
        "colab": {
          "base_uri": "https://localhost:8080/"
        },
        "id": "NyE41F7YWFwe",
        "outputId": "f37fc35c-91e2-476f-8fd7-983a72e98dfe"
      },
      "execution_count": null,
      "outputs": [
        {
          "output_type": "stream",
          "name": "stdout",
          "text": [
            "enter a number:1\n",
            "enter a number:2\n",
            "enter a number:3\n",
            "error\n",
            "5\n"
          ]
        }
      ]
    },
    {
      "cell_type": "code",
      "source": [
        "a= eval(input(\"enter a number:\"))\n",
        "b= eval(input(\"enter a number:\"))\n",
        "c= eval(input(\"enter a number:\"))\n",
        "def sum_of_square(n):\n",
        "  if (c > a and c > b):\n",
        "    print(a*a + b*b)\n",
        "  elif (b > a and b> c):\n",
        "    print(a**2 + c**2)\n",
        "  elif (a > c and a > b):\n",
        "    print (b**2 + c**2)\n",
        "sum_of_square(n)"
      ],
      "metadata": {
        "colab": {
          "base_uri": "https://localhost:8080/"
        },
        "id": "oF2GKxOebXzS",
        "outputId": "7c32f849-9ea1-4fad-f97f-990c643f4d60"
      },
      "execution_count": null,
      "outputs": [
        {
          "output_type": "stream",
          "name": "stdout",
          "text": [
            "enter a number:12\n",
            "enter a number:13\n",
            "enter a number:4\n",
            "160\n"
          ]
        }
      ]
    }
  ]
}