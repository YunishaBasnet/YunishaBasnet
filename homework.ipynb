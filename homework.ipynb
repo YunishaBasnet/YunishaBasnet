{
  "nbformat": 4,
  "nbformat_minor": 0,
  "metadata": {
    "colab": {
      "provenance": [],
      "authorship_tag": "ABX9TyMsJ23iMbUJbhwvYlsassC+",
      "include_colab_link": true
    },
    "kernelspec": {
      "name": "python3",
      "display_name": "Python 3"
    },
    "language_info": {
      "name": "python"
    }
  },
  "cells": [
    {
      "cell_type": "markdown",
      "metadata": {
        "id": "view-in-github",
        "colab_type": "text"
      },
      "source": [
        "<a href=\"https://colab.research.google.com/github/YunishaBasnet/YunishaBasnet/blob/main/homework.ipynb\" target=\"_parent\"><img src=\"https://colab.research.google.com/assets/colab-badge.svg\" alt=\"Open In Colab\"/></a>"
      ]
    },
    {
      "cell_type": "code",
      "source": [
        "\n",
        "#answer of 1\n",
        "n=input('enter the word:').lower()\n",
        "m=eval(input('enter the value of key:'))\n",
        "p=input('enter e to encode or d to decode:')\n",
        "newstr=\"\"\n",
        "if (p=='e'):\n",
        "  for i in n:\n",
        "    newstr = newstr + chr(ord(i) + m) #for encoding\n",
        "elif (p=='d'):\n",
        "  for i in n:\n",
        "    newstr = newstr + chr(ord(i) - m)  #for decoding\n",
        "else:    \n",
        "  print(\"sorry,please try again.\")\n",
        "print(newstr)\n",
        "\n",
        "    \n"
      ],
      "metadata": {
        "colab": {
          "base_uri": "https://localhost:8080/"
        },
        "id": "UIJjM9X_dK2M",
        "outputId": "e3997254-fcb9-4d1c-ac0b-bf0ea28fa71c"
      },
      "execution_count": null,
      "outputs": [
        {
          "output_type": "stream",
          "name": "stdout",
          "text": [
            "enter the word:sourpuss\n",
            "enter the value of key:2\n",
            "enter e to encode or d to decode:e\n",
            "uqwtrwuu\n"
          ]
        }
      ]
    },
    {
      "cell_type": "code",
      "source": [
        "#answer of 2\n",
        "lst=[1,2,3,6]\n",
        "def new_list(lst):\n",
        "  joining=\"\".join([str(integer)for integer in lst]) #joining all the integer\n",
        "  num=int(joining)+1 #adding 1 in whole number\n",
        "  result=[int(x)for x in str(num)]    #making the final new list\n",
        "  print(result) \n",
        "new_list(lst)\n",
        "              "
      ],
      "metadata": {
        "colab": {
          "base_uri": "https://localhost:8080/"
        },
        "id": "WLFHsupWz_V4",
        "outputId": "7e40e30d-d50e-4e37-ad99-a9e160f7f1ad"
      },
      "execution_count": null,
      "outputs": [
        {
          "output_type": "stream",
          "name": "stdout",
          "text": [
            "[1, 2, 3, 7]\n"
          ]
        }
      ]
    },
    {
      "cell_type": "code",
      "source": [
        "#answer of 3\n",
        "a=input('enter the first binary numbers:')\n",
        "b=input('enter the second binary numbers:')\n",
        "sum=0\n",
        "def sum_of_binary(a,b):\n",
        "  sum=bin(int(a,2)+int(b,2)) #addition of two binary num.\n",
        "  print(sum[2:]) #int sum is print\n",
        "sum_of_binary(a,b)"
      ],
      "metadata": {
        "colab": {
          "base_uri": "https://localhost:8080/"
        },
        "id": "8lk1Bsm_7r0A",
        "outputId": "5eca503f-34d6-4a50-900a-20e36ca691f2"
      },
      "execution_count": null,
      "outputs": [
        {
          "output_type": "stream",
          "name": "stdout",
          "text": [
            "enter the first binary numbers:1011\n",
            "enter the second binary numbers:10\n",
            "1101\n"
          ]
        }
      ]
    },
    {
      "cell_type": "code",
      "source": [
        "#answer of 4\n",
        "import math\n",
        "n=eval(input('enter a number:')) #to calculate sum of all proper divisors\n",
        "def divsum(n):\n",
        "  sum = 0; #sum of divisors\n",
        "  for i in range(1,n): #all divisors divides by \"num\"\n",
        "    if(n % i==0):\n",
        "      sum=sum+i \n",
        "  return sum;\n",
        "def final_amicable(m): #second code\n",
        "  final = 0\n",
        "  for i in range(1,m):\n",
        "    current = divsum(int(i)); # from first code  value is taken process in 2nd\n",
        "    result= divsum(current);\n",
        "    if(i==result and current!= result):\n",
        "      if(i>n):\n",
        "        print(i)\n",
        "        final=i\n",
        "        return i \n",
        "        break\n",
        "  if(final==0):\n",
        "    final_amicable(m*2)\n",
        "def amc(n):\n",
        "  final_result=final_amicable(1500);\n",
        "amc(n)"
      ],
      "metadata": {
        "colab": {
          "base_uri": "https://localhost:8080/"
        },
        "id": "UIQu20dzCqTH",
        "outputId": "ca90bbab-6535-4014-948e-e91e589d82cd"
      },
      "execution_count": null,
      "outputs": [
        {
          "output_type": "stream",
          "name": "stdout",
          "text": [
            "enter a number:4\n",
            "220\n"
          ]
        }
      ]
    }
  ]
}