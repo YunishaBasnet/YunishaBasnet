{
  "nbformat": 4,
  "nbformat_minor": 0,
  "metadata": {
    "colab": {
      "provenance": [],
      "authorship_tag": "ABX9TyM3P7K+N7wZcN5m6Hpm6qiD",
      "include_colab_link": true
    },
    "kernelspec": {
      "name": "python3",
      "display_name": "Python 3"
    },
    "language_info": {
      "name": "python"
    }
  },
  "cells": [
    {
      "cell_type": "markdown",
      "metadata": {
        "id": "view-in-github",
        "colab_type": "text"
      },
      "source": [
        "<a href=\"https://colab.research.google.com/github/YunishaBasnet/YunishaBasnet/blob/main/lab_assigment.ipynb\" target=\"_parent\"><img src=\"https://colab.research.google.com/assets/colab-badge.svg\" alt=\"Open In Colab\"/></a>"
      ]
    },
    {
      "cell_type": "code",
      "source": [
        "#answer of 1\n",
        "N= eval(input(\"enter a nuber:\"))\n",
        "def is_prime(n):\n",
        "  if (n==1 or n==0):\n",
        "    return False\n",
        "  for i in range(2,n):\n",
        "      if (n%i==0):\n",
        "        return False\n",
        "  return True\n",
        "for i in range(1,N+1):\n",
        "  if (is_prime(i)):\n",
        "    print(i)\n"
      ],
      "metadata": {
        "colab": {
          "base_uri": "https://localhost:8080/"
        },
        "id": "U4WnGKSRM0dQ",
        "outputId": "cf71f394-b691-480b-b760-1e7989369969"
      },
      "execution_count": null,
      "outputs": [
        {
          "output_type": "stream",
          "name": "stdout",
          "text": [
            "enter a nuber:11\n",
            "2\n",
            "3\n",
            "5\n",
            "7\n",
            "11\n"
          ]
        }
      ]
    },
    {
      "cell_type": "code",
      "source": [
        "#answer of 2\n",
        "n=input(\"enter a sentence:\")\n",
        "value= n.split(\" \")\n",
        "l= len(value)\n",
        "print(\"length of the sentenceis\",l)"
      ],
      "metadata": {
        "colab": {
          "base_uri": "https://localhost:8080/"
        },
        "id": "GAHV2HKuU6-6",
        "outputId": "c4b04f71-83c0-450c-e287-ce5194725fed"
      },
      "execution_count": null,
      "outputs": [
        {
          "output_type": "stream",
          "name": "stdout",
          "text": [
            "enter a sentence:i am healthy\n",
            "length of the sentenceis 3\n"
          ]
        }
      ]
    },
    {
      "cell_type": "code",
      "source": [
        "#answer of 3\n",
        "n=input(\"enter a sentence:\")\n",
        "value= n.split(\" \")\n",
        "sum = 0\n",
        "for words in value:\n",
        "  count=len(words)\n",
        "  sum = sum +count\n",
        "  aveg = sum /len(value)\n",
        "print(\"average of the sentene is\", aveg)\n"
      ],
      "metadata": {
        "colab": {
          "base_uri": "https://localhost:8080/"
        },
        "id": "lpjlpZd8V_WS",
        "outputId": "c0f4c06f-4af4-4e0a-d5e7-05113e0686a1"
      },
      "execution_count": null,
      "outputs": [
        {
          "output_type": "stream",
          "name": "stdout",
          "text": [
            "enter a sentence:i am healthy\n",
            "average of the sentene is 3.3333333333333335\n"
          ]
        }
      ]
    },
    {
      "cell_type": "code",
      "source": [
        "#answer of 4\n",
        "n= eval(input(\"enter a number:\"))\n",
        "k= eval(input(\"enter a number:\"))\n",
        "differ=(n-k)\n",
        "def choose(n,k):\n",
        "  nfact=1\n",
        "  kfact=1\n",
        "  differfact=1\n",
        "  for i in range(1,n+1):\n",
        "    nfact=nfact*i\n",
        "  for j in range(1,k+1):\n",
        "    kfact= kfact*j\n",
        "  for l in range(1,differ+1):\n",
        "    differfact= differfact*l\n",
        "  s = (nfact)/((kfact)*(differfact)) \n",
        "  print(s)\n",
        "choose(n,k)\n",
        "\n",
        "  \n"
      ],
      "metadata": {
        "colab": {
          "base_uri": "https://localhost:8080/"
        },
        "id": "aSZumowGXq-O",
        "outputId": "b531f431-4d6a-49af-fae8-bc3fb39a7053"
      },
      "execution_count": null,
      "outputs": [
        {
          "output_type": "stream",
          "name": "stdout",
          "text": [
            "enter a number:20\n",
            "enter a number:6\n",
            "38760.0\n"
          ]
        }
      ]
    },
    {
      "cell_type": "code",
      "source": [
        "# answer of 5\n",
        "import math\n",
        "a= eval(input(\"enter a number:\"))\n",
        "b= eval(input(\"enter a number:\"))\n",
        "def multiple(a,b):\n",
        "  res= math.gcd(a,b)\n",
        "  lcm=(a*b)//res\n",
        "  return lcm\n",
        "multiple(a,b)"
      ],
      "metadata": {
        "id": "0offHeL4Ytdp",
        "colab": {
          "base_uri": "https://localhost:8080/"
        },
        "outputId": "8545068d-ed13-4c0e-c1c5-3dd72fc51c4f"
      },
      "execution_count": 3,
      "outputs": [
        {
          "name": "stdout",
          "output_type": "stream",
          "text": [
            "enter a number:5\n",
            "enter a number:6\n"
          ]
        },
        {
          "output_type": "execute_result",
          "data": {
            "text/plain": [
              "30"
            ]
          },
          "metadata": {},
          "execution_count": 3
        }
      ]
    }
  ]
}