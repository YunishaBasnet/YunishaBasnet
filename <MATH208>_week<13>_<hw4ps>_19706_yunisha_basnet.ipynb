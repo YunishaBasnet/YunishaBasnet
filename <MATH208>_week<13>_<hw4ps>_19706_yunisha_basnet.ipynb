{
  "nbformat": 4,
  "nbformat_minor": 0,
  "metadata": {
    "colab": {
      "private_outputs": true,
      "provenance": [],
      "authorship_tag": "ABX9TyM37A20I4JAf3dhnFvytmhH",
      "include_colab_link": true
    },
    "kernelspec": {
      "name": "python3",
      "display_name": "Python 3"
    },
    "language_info": {
      "name": "python"
    }
  },
  "cells": [
    {
      "cell_type": "markdown",
      "metadata": {
        "id": "view-in-github",
        "colab_type": "text"
      },
      "source": [
        "<a href=\"https://colab.research.google.com/github/YunishaBasnet/YunishaBasnet/blob/main/hw4ps.ipynb\" target=\"_parent\"><img src=\"https://colab.research.google.com/assets/colab-badge.svg\" alt=\"Open In Colab\"/></a>"
      ]
    },
    {
      "cell_type": "markdown",
      "source": [
        "## Answer no.1"
      ],
      "metadata": {
        "id": "qkB9PK50r4sP"
      }
    },
    {
      "cell_type": "code",
      "source": [
        "# a. Percentage of lengths less than 9cm\n",
        "\n",
        "import scipy.stats as stats\n",
        "\n",
        "# Given parameters\n",
        "mean_length = 10.3\n",
        "std_dev = 0.65\n",
        "\n",
        "length_a = 9\n",
        "z_score_a = (length_a - mean_length) / std_dev\n",
        "percentage_a = stats.norm.cdf(z_score_a) * 100\n",
        "\n",
        "\n",
        "# Display results\n",
        "print(f\" Percentage of lengths less than {length_a}cm: {percentage_a:.2f}%\")\n",
        "\n"
      ],
      "metadata": {
        "id": "kpcbrnkvrLyw"
      },
      "execution_count": null,
      "outputs": []
    },
    {
      "cell_type": "code",
      "source": [
        "# b. Percentage of lengths between 9.5cm and 10.6cm\n",
        "\n",
        "import scipy.stats as stats\n",
        "\n",
        "mean_length = 10.3\n",
        "std_dev = 0.65\n",
        "\n",
        "length_b_lower = 9.5\n",
        "length_b_upper = 10.6\n",
        "z_score_b_lower = (length_b_lower - mean_length) / std_dev\n",
        "z_score_b_upper = (length_b_upper - mean_length) / std_dev\n",
        "percentage_b = (stats.norm.cdf(z_score_b_upper) - stats.norm.cdf(z_score_b_lower)) * 100\n",
        "\n",
        "print(f\" Percentage of lengths between {length_b_lower}cm and {length_b_upper}cm: {percentage_b:.2f}%\")\n",
        "\n"
      ],
      "metadata": {
        "id": "UY6vwHR0rSqn"
      },
      "execution_count": null,
      "outputs": []
    },
    {
      "cell_type": "code",
      "source": [
        "# c. Minimum length for the top 20%\n",
        "\n",
        "import scipy.stats as stats\n",
        "\n",
        "mean_length = 10.3\n",
        "std_dev = 0.65\n",
        "\n",
        "percentage_c = 20\n",
        "z_score_c = stats.norm.ppf(1 - percentage_c / 100)\n",
        "length_c = z_score_c * std_dev + mean_length\n",
        "\n",
        "print(f\" Minimum length for the top {percentage_c}%: {length_c:.2f}cm\")\n"
      ],
      "metadata": {
        "id": "33YxvbAGrko4"
      },
      "execution_count": null,
      "outputs": []
    },
    {
      "cell_type": "markdown",
      "source": [
        "## Answer no 3\n"
      ],
      "metadata": {
        "id": "HDvxCQ6osIlo"
      }
    },
    {
      "cell_type": "code",
      "source": [
        "from scipy.stats import binom\n",
        "\n",
        "# Parameters\n",
        "p = 0.05\n",
        "n = 100  #we can choose the value greater than 50\n",
        "\n",
        "# Mean and standard deviation formulas for a binomial distribution\n",
        "mean = n * p\n",
        "std_dev = (n * p * (1 - p)) ** 0.5\n",
        "\n",
        "# Generate a binomial distribution\n",
        "binom_dist = binom(n, p)\n",
        "\n",
        "# Verify mean and standard deviation\n",
        "calculated_mean = binom_dist.mean()\n",
        "calculated_std_dev = binom_dist.std()\n",
        "\n",
        "# Display the results\n",
        "print(f\"Given parameters: p = {p}, n = {n}\")\n",
        "print(f\"Expected mean: {mean}, Calculated mean: {calculated_mean}\")\n",
        "print(f\"Expected standard deviation: {std_dev}\")\n",
        "print(f\"Calculated standard deviation: {calculated_std_dev}\")"
      ],
      "metadata": {
        "id": "ctjQu50fsH0o"
      },
      "execution_count": null,
      "outputs": []
    },
    {
      "cell_type": "markdown",
      "source": [
        "## Answer no.4"
      ],
      "metadata": {
        "id": "3nGpXb7K0AD4"
      }
    },
    {
      "cell_type": "code",
      "source": [
        "import math\n",
        "import numpy as np\n",
        "import matplotlib.pyplot as plt\n",
        "from scipy.stats import binom, norm\n",
        "\n",
        "#assuming the number of trials (n) and probability of success (p)\n",
        "n = 100\n",
        "p = 0.6\n",
        "\n",
        "# specific number of successes of the probability\n",
        "k = 60\n",
        "\n",
        "# binomial distribution formula\n",
        "binomial_prob = (math.factorial(n) / (math.factorial(k) * math.factorial(n - k))) * (p ** k) * ((1 - p) ** (n - k))\n",
        "\n",
        "# parameters for normal distribution approximation\n",
        "mu = n * p\n",
        "sigma = math.sqrt(n * p * (1 - p))\n",
        "\n",
        "# normal distribution cumulative distribution function\n",
        "normal_cdf = norm.cdf(k, mu, sigma)\n",
        "\n",
        "print(f\"Binomial Probability: {binomial_prob}\")\n",
        "print(f\"Normal Distribution CDF: {normal_cdf}\")\n",
        "\n",
        "# Generate binomial distribution\n",
        "binom_dist = binom(n, p)\n",
        "x = np.arange(0, n+1)\n",
        "\n",
        "# Plot binomial distribution\n",
        "plt.bar(x, binom_dist.pmf(x), label='Binomial Distribution', alpha=0.7)\n",
        "\n",
        "# Plot normal distribution\n",
        "plt.plot(x, norm.pdf(x, mu, sigma), label='Normal Distribution (Approximation)', color='red')\n",
        "\n",
        "# Highlight the specific value of k\n",
        "plt.axvline(x=k, color='green', linestyle='--', label=f'Specific Value (k={k})')\n",
        "\n",
        "# Set labels and legend\n",
        "plt.title('Binomial vs Normal Distribution Approximation')\n",
        "plt.xlabel('Number of Successes')\n",
        "plt.ylabel('Probability')\n",
        "plt.legend()\n",
        "\n",
        "# Show the plot\n",
        "plt.show()\n"
      ],
      "metadata": {
        "id": "UugN6E3n0Zox"
      },
      "execution_count": null,
      "outputs": []
    },
    {
      "cell_type": "markdown",
      "source": [
        "## Answer no 7"
      ],
      "metadata": {
        "id": "-ual20cg4JrC"
      }
    },
    {
      "cell_type": "code",
      "source": [
        "import numpy as np\n",
        "import matplotlib.pyplot as plt\n",
        "from scipy.stats import t\n",
        "\n",
        "# Generating the 100 random numbers in T distribution with df = 10\n",
        "np.random.seed(42)\n",
        "random_numbers = np.random.standard_t(df=10, size=100)\n",
        "\n",
        "# Calculating the mean μ and standard deviation 𝜎\n",
        "mu = np.mean(random_numbers)\n",
        "sigma = np.std(random_numbers)\n",
        "\n",
        "# Creating the 19 sampling groups\n",
        "sampling_groups = []\n",
        "for _ in range(19):\n",
        "    sampling_groups.append(np.random.choice(random_numbers, size=30, replace=False))\n",
        "\n",
        "# Calculating the mean value 𝑥 in the total 19 sampling groups which we created\n",
        "total_samples = np.concatenate(sampling_groups)\n",
        "mean_x = np.mean(total_samples)\n",
        "std_x = np.std(total_samples)\n",
        "\n",
        "# Verifing that the CLT holds:\n",
        "print(\"CLT holds:\", np.isclose(mean_x, mu, atol=1e-2) and np.isclose(std_x, sigma, atol=1e-2))\n",
        "\n",
        "# Ploting the histogram of the mean value 𝑥 in the total 19 sampling groups\n",
        "plt.hist(total_samples, bins=30, density=True, alpha=0.7)\n",
        "\n",
        "# Ploting  the theoretical T distribution\n",
        "xmin, xmax = plt.xlim()\n",
        "x = np.linspace(xmin, xmax, 100)\n",
        "p = t.pdf(x, df=10)\n",
        "plt.plot(x, p, 'k--', linewidth=2)\n",
        "\n",
        "title = \"Histogram of the Mean Value in the Total 19 Sampling Groups\"\n",
        "plt.title(title)\n",
        "plt.xlabel('x')\n",
        "plt.ylabel('Probability')\n",
        "plt.legend(['Theoretical T Distribution', 'Sampled T Distribution'])\n",
        "plt.show()\n"
      ],
      "metadata": {
        "id": "jqXkVej00xME"
      },
      "execution_count": null,
      "outputs": []
    },
    {
      "cell_type": "code",
      "source": [],
      "metadata": {
        "id": "815JgOdN4MsA"
      },
      "execution_count": null,
      "outputs": []
    }
  ]
}
