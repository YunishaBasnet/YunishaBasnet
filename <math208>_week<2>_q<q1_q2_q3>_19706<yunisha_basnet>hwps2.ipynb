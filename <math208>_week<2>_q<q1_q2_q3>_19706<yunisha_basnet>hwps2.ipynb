{
  "nbformat": 4,
  "nbformat_minor": 0,
  "metadata": {
    "colab": {
      "private_outputs": true,
      "provenance": [],
      "authorship_tag": "ABX9TyN+C9jXcNbeasHRwrd8yquh",
      "include_colab_link": true
    },
    "kernelspec": {
      "name": "python3",
      "display_name": "Python 3"
    },
    "language_info": {
      "name": "python"
    }
  },
  "cells": [
    {
      "cell_type": "markdown",
      "metadata": {
        "id": "view-in-github",
        "colab_type": "text"
      },
      "source": [
        "<a href=\"https://colab.research.google.com/github/YunishaBasnet/YunishaBasnet/blob/main/hwps2.ipynb\" target=\"_parent\"><img src=\"https://colab.research.google.com/assets/colab-badge.svg\" alt=\"Open In Colab\"/></a>"
      ]
    },
    {
      "cell_type": "markdown",
      "source": [
        "##Question no.1\n"
      ],
      "metadata": {
        "id": "z-9YpoQ4TzwB"
      }
    },
    {
      "cell_type": "code",
      "source": [
        "import pandas as pd\n",
        "import numpy as np\n",
        "from scipy.stats import zscore\n",
        "\n",
        "data = pd.read_excel('original_diabetes.xlsx')\n",
        "\n",
        "if 'Glucose' in data:\n",
        "    x = data['Glucose']\n",
        "    mean = x.mean()\n",
        "    variance = x.var()\n",
        "    standard_deviation = x.std()\n",
        "    z_scores = zscore(x)\n",
        "    median = x.median()\n",
        "    Q1 = x.quantile(0.25)\n",
        "    Q3 = x.quantile(0.75)\n",
        "\n",
        "    results = (f\"Statistics for 'Glucose':\\n\"\n",
        "               f\"Mean: {mean}\\n\"\n",
        "               f\"Variance: {variance}\\n\"\n",
        "               f\"Standard Deviation: {standard_deviation}\\n\"\n",
        "               f\"Z-Scores:\\n{z_scores}\\n\"\n",
        "               f\"Q1 (First Quartile): {Q1}\\n\"\n",
        "               f\"Median (Q2): {median}\\n\"\n",
        "               f\"Q3 (Third Quartile): {Q3}\\n\")\n",
        "\n",
        "    print(results)\n",
        "\n",
        "if 'BloodPressure' in data:\n",
        "    y = data['BloodPressure']\n",
        "    mean = y.mean()\n",
        "    variance = y.var()\n",
        "    standard_deviation = y.std()\n",
        "    z_scores = zscore(y)\n",
        "    median = y.median()\n",
        "    Q1 = y.quantile(0.25)\n",
        "    Q3 = y.quantile(0.75)\n",
        "\n",
        "    results = (f\"Statistics for 'BloodPressure':\\n\"\n",
        "               f\"Mean: {mean}\\n\"\n",
        "               f\"Variance: {variance}\\n\"\n",
        "               f\"Standard Deviation: {standard_deviation}\\n\"\n",
        "               f\"Z-Scores:\\n{z_scores}\\n\"\n",
        "               f\"Q1 (First Quartile): {Q1}\\n\"\n",
        "               f\"Median (Q2): {median}\\n\"\n",
        "               f\"Q3 (Third Quartile): {Q3}\\n\")\n",
        "\n",
        "    print(results)\n",
        "import matplotlib.pyplot as plt\n",
        "# Create a figure to display the statistics\n",
        "plt.figure(figsize=(10, 6))\n",
        "\n",
        "# Bar width for the bars\n",
        "bar_width = 0.35\n",
        "\n",
        "# X-axis positions for the bars\n",
        "x = np.arange(6)\n",
        "\n",
        "# Labels for the bars\n",
        "labels = ['Mean', 'Variance', 'Std Dev', 'Median', 'Q1', 'Q3']\n",
        "\n",
        "# Plot the statistics for Glucose\n",
        "plt.bar(x, [mean, variance,standard_deviation, median, Q1, Q3], width=bar_width, label='Glucose', color='blue', alpha=0.7)\n",
        "\n",
        "# Shift the X-axis positions for the bars\n",
        "x = x + bar_width\n",
        "\n",
        "# Plot the statistics for Blood Pressure\n",
        "plt.bar(x, [mean, variance, standard_deviation, median, Q1, Q3], width=bar_width, label='Blood Pressure', color='green', alpha=0.7)\n",
        "\n",
        "# Customize the plot\n",
        "plt.xlabel('Statistics')\n",
        "plt.ylabel('Values')\n",
        "plt.title('Statistics for Glucose and Blood Pressure')\n",
        "plt.xticks(x - bar_width/2, labels)\n",
        "plt.legend(loc='upper right')\n",
        "\n",
        "# Show the plot\n",
        "plt.show()\n"
      ],
      "metadata": {
        "id": "ttp6cqe-JA1X"
      },
      "execution_count": null,
      "outputs": []
    },
    {
      "cell_type": "markdown",
      "source": [
        "##Question.no.2"
      ],
      "metadata": {
        "id": "RrU8Z0rATySh"
      }
    },
    {
      "cell_type": "code",
      "source": [
        "import numpy as np\n",
        "\n",
        "def generate_random_numbers(n, mean, std_dev):\n",
        "    return np.random.normal(mean, std_dev, n)\n",
        "\n",
        "def calculate_mean_std_dev(numbers):\n",
        "    return np.mean(numbers), np.std(numbers)\n",
        "\n",
        "def check_chebyshev_inequality(numbers, mean, std_dev, k):\n",
        "    total_count = len(numbers)\n",
        "    deviated_count = sum(1 for number in numbers if abs(number - mean) >= k * std_dev)\n",
        "    result = deviated_count / total_count <= 1 / (k ** 2)\n",
        "    print(f\"Using number {number} and k = {k}, Chebyshev's inequality holds: {result}\")\n",
        "    return result\n",
        "\n",
        "# Parameters\n",
        "n = 50\n",
        "mean = 10\n",
        "std_dev = 0.5\n",
        "k = 2\n",
        "\n",
        "# Generate random numbers\n",
        "numbers = generate_random_numbers(n, mean, std_dev)\n",
        "\n",
        "# Calculate mean and standard deviation\n",
        "generated_mean, generated_std_dev = calculate_mean_std_dev(numbers)\n",
        "\n",
        "# Check if Chebyshev's inequality holds true for each number in the list\n",
        "for number in numbers:\n",
        "    check_chebyshev_inequality(numbers, number, generated_std_dev, k)"
      ],
      "metadata": {
        "id": "-MKFjiPwVV3x"
      },
      "execution_count": null,
      "outputs": []
    },
    {
      "cell_type": "markdown",
      "source": [
        "##question no.3"
      ],
      "metadata": {
        "id": "nKAuJb3lWhN3"
      }
    },
    {
      "cell_type": "code",
      "source": [
        "import numpy as np\n",
        "import matplotlib.pyplot as plt\n",
        "from sklearn.linear_model import LinearRegression\n",
        "from sklearn.metrics import r2_score\n",
        "\n",
        "# Define the data\n",
        "X = np.array([2, 3, 4, 5, 6, 7, 8, 9, 10, 11]).reshape(-1, 1)\n",
        "Y = np.array([30, 25, 95, 115, 265, 325, 570, 700, 1085, 130])\n",
        "\n",
        "# Perform linear regression\n",
        "model = LinearRegression()\n",
        "model.fit(X, Y)\n",
        "\n",
        "# Get the parameters of the linear model\n",
        "b1 = model.coef_[0]\n",
        "b0 = model.intercept_\n",
        "r = np.corrcoef(X.flatten(), Y)[0, 1]\n",
        "\n",
        "# Print the results\n",
        "print(f'b1: {b1}, b0: {b0}, r: {r}')\n",
        "\n",
        "# Plot the data and the fitted line\n",
        "plt.scatter(X, Y)\n",
        "plt.plot(X, model.predict(X), color='red')\n",
        "plt.xlabel('X')\n",
        "plt.ylabel('Y')\n",
        "plt.title('Linear Regression')\n",
        "plt.show()"
      ],
      "metadata": {
        "id": "CneyVYkRWeDY"
      },
      "execution_count": null,
      "outputs": []
    },
    {
      "cell_type": "code",
      "source": [],
      "metadata": {
        "id": "Bax1IIPZaIpw"
      },
      "execution_count": null,
      "outputs": []
    }
  ]
}
