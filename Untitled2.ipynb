{
  "nbformat": 4,
  "nbformat_minor": 0,
  "metadata": {
    "colab": {
      "provenance": [],
      "authorship_tag": "ABX9TyOpNe4ILP5y5opMPOzJEQm6",
      "include_colab_link": true
    },
    "kernelspec": {
      "name": "python3",
      "display_name": "Python 3"
    },
    "language_info": {
      "name": "python"
    }
  },
  "cells": [
    {
      "cell_type": "markdown",
      "metadata": {
        "id": "view-in-github",
        "colab_type": "text"
      },
      "source": [
        "<a href=\"https://colab.research.google.com/github/YunishaBasnet/YunishaBasnet/blob/main/Untitled2.ipynb\" target=\"_parent\"><img src=\"https://colab.research.google.com/assets/colab-badge.svg\" alt=\"Open In Colab\"/></a>"
      ]
    },
    {
      "cell_type": "code",
      "source": [
        "#Answer of 1\n",
        "import math\n",
        "MAX = 10000;\n",
        "prime = []; #to store all the prime less than and equal to 10^6 \n",
        "def check_even():\n",
        "\tm = [False] * (int(MAX / 2) + 100); #it produce primes smaller than(2*x+2) for a number given num x,\n",
        "              #max is reduced to half,since prime is smaller.\n",
        "\tfor i in range(1, int((math.sqrt(MAX) - 1) / 2) + 1): #mark the number which is not prime number by doing 2*i+j\n",
        "\t\tfor j in range((i * (i + 1)) << 1,\n",
        "\t\t\t\t\t\tint(MAX / 2) + 1, 2 * i + 1):\n",
        "\t\t\tm[j] = True;\n",
        "\tprime.append(2); # Since 2 is a prime number\n",
        "\tfor i in range(1, int(MAX / 2) + 1):  #remain prime are in the form of 2*i+1 where m[1] is false.\n",
        "\t\tif (m[i] == False):\n",
        "\t\t\tprime.append(2 * i + 1);\n",
        "# Function to perform Goldbach's conjecture\n",
        "def find_prime(n):\n",
        "\tif (n <= 2 or n % 2 != 0): #return the number which are not even or less than 3\n",
        "\t\tprint(\"Wrong Input!!\");\n",
        "\t\treturn;\n",
        "\ti = 0; \t# Check only upto half of number\n",
        "\twhile (prime[i] <= n // 2):\n",
        "\t\tdiff = n - prime[i];  #difference by subtractinge current prime from n\n",
        "\t\tif diff in prime:\n",
        "\t\t\tprint(prime[i], \"+\", diff, \"=\", n); #sum of prime\n",
        "\t\t\treturn;\n",
        "\t\ti += 1;\n",
        "\n",
        "\n",
        "\n",
        "# Finding all prime numbers before limit\n",
        "check_even();\n",
        "find_prime(4);"
      ],
      "metadata": {
        "colab": {
          "base_uri": "https://localhost:8080/"
        },
        "id": "OCrCCIKANw0X",
        "outputId": "063aa871-e8f9-404c-8e73-6a0e89187d07"
      },
      "execution_count": null,
      "outputs": [
        {
          "output_type": "stream",
          "name": "stdout",
          "text": [
            "2 + 2 = 4\n"
          ]
        }
      ]
    },
    {
      "cell_type": "code",
      "source": [
        "def move_zero(lst, n):\n",
        "    count = 0 # Count of non-zero elements\n",
        "    for i in range(n):\n",
        "        if lst[i] != 0: #if num is 0, then repkace the num at index count\n",
        "            lst[count] = lst[i] #  count is incremented\n",
        "            count+=1\n",
        "#all 0 num have shifted to fornt and count is  set as index.\n",
        " #all the elemest 0 from count to end.\n",
        "    while count < n: \n",
        "        lst[count] = 0\n",
        "        count += 1        \n",
        "lst = [1,0,3,0,4]\n",
        "n = len(lst)\n",
        "move_zero(lst, n)\n",
        "print(lst)\n",
        " "
      ],
      "metadata": {
        "colab": {
          "base_uri": "https://localhost:8080/"
        },
        "id": "Mr-MAUoTOvT-",
        "outputId": "79e3dc6a-b65c-41c7-c512-3b64741aa196"
      },
      "execution_count": null,
      "outputs": [
        {
          "output_type": "stream",
          "name": "stdout",
          "text": [
            "[1, 3, 4, 0, 0]\n"
          ]
        }
      ]
    },
    {
      "cell_type": "code",
      "source": [
        "#answer of 3\n",
        "def pattern_matching(str,pattern,str_len,pat_len):\n",
        "    #if length of pattern is more than length of string,\n",
        "    #then the pattern doesn't matches with string\n",
        "    if(str_len<pat_len):\n",
        "        return False\n",
        "    #if length of string and pattern is 0 then we set it to match\n",
        "    if(str_len==0 and pat_len==0):\n",
        "        return True\n",
        "    #if one is empty and the other is entered then it is mismatched\n",
        "    if (str_len == 0 or pat_len == 0):\n",
        "        return False\n",
        "    #check if string is space separated one or not\n",
        "    # if yes then split() function can be used. it just separate the string with the space\n",
        "    #if no check the else condition\n",
        "    if(str.find(' ')!=-1):\n",
        "        str_list=str.split()\n",
        "    else:\n",
        "        #check for every characters and check for uppercase letters and add it to the list str_list\n",
        "        splitted_words = [[str[0]]]\n",
        "        for i in str[1:]:\n",
        "            if i.isupper() and splitted_words[-1][-1].islower():\n",
        "                splitted_words.append(list(i))\n",
        "            else:\n",
        "                splitted_words[-1].append(i)\n",
        "        str_list=[''.join(word) for word in splitted_words]\n",
        "    #separate the pattern with no repetition for easy logic purpose\n",
        "    #those are stored in pat_list\n",
        "    pat_list = []\n",
        "    for i in pattern:\n",
        "            if(i not in pat_list):\n",
        "                pat_list.append(i)\n",
        "    #like pattern storing the separated string with no repetition\n",
        "    # store that with in the dictionary with pattern characters as corresponding keys\n",
        "    j=0\n",
        "    dict = {}\n",
        "    for i in pat_list:\n",
        "        while(j<str_len):\n",
        "            dict[i]=str_list[j]\n",
        "            j+=1\n",
        "            break\n",
        "    #check for matching conditions\n",
        "    #if characters of pattern matches with keys in the dictionary\n",
        "    #then store that values in separate list output\n",
        "    output=[]\n",
        "    for i in pattern:\n",
        "        if(i in dict.keys()):\n",
        "            output.append(dict[i])\n",
        "    #if output lined with the pattern matches with string\n",
        "    #then it matches else not\n",
        "    if(output==str_list):\n",
        "        print(dict)\n",
        "        return True\n",
        "    else:\n",
        "        return False\n",
        "str=\"python code python code\"\n",
        "pattern=\"abab\"\n",
        "if(pattern_matching(str,pattern,len(str),len(pattern))):\n",
        "    print( True)\n",
        "else:\n",
        "    print( False)\n"
      ],
      "metadata": {
        "colab": {
          "base_uri": "https://localhost:8080/"
        },
        "id": "JgVlz2KzTV_D",
        "outputId": "e4ec996d-905e-46f6-feac-a9ef6a6e0ac7"
      },
      "execution_count": 27,
      "outputs": [
        {
          "output_type": "stream",
          "name": "stdout",
          "text": [
            "{'a': 'python', 'b': 'code'}\n",
            "True\n"
          ]
        }
      ]
    }
  ]
}