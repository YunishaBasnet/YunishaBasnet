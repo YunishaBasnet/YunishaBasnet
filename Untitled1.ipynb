{
  "nbformat": 4,
  "nbformat_minor": 0,
  "metadata": {
    "colab": {
      "provenance": [],
      "authorship_tag": "ABX9TyM7vAo0/fLkUkqz7mzlCwsh",
      "include_colab_link": true
    },
    "kernelspec": {
      "name": "python3",
      "display_name": "Python 3"
    },
    "language_info": {
      "name": "python"
    }
  },
  "cells": [
    {
      "cell_type": "markdown",
      "metadata": {
        "id": "view-in-github",
        "colab_type": "text"
      },
      "source": [
        "<a href=\"https://colab.research.google.com/github/YunishaBasnet/YunishaBasnet/blob/main/Untitled1.ipynb\" target=\"_parent\"><img src=\"https://colab.research.google.com/assets/colab-badge.svg\" alt=\"Open In Colab\"/></a>"
      ]
    },
    {
      "cell_type": "code",
      "execution_count": 11,
      "metadata": {
        "colab": {
          "base_uri": "https://localhost:8080/"
        },
        "id": "1fAWWzZXCA80",
        "outputId": "357fb7a0-8473-449e-8027-32f3d45518e2"
      },
      "outputs": [
        {
          "output_type": "stream",
          "name": "stdout",
          "text": [
            "there is out of stock in the machine $15\n",
            "currentcandystock:2\n",
            "current balance: 7\n",
            "current balance: 12\n",
            "here is yourcandyand$1change\n"
          ]
        }
      ],
      "source": [
        "#question no 1 answer:\n",
        "class machine:\n",
        "\n",
        "  def __init__(self,things,cost):\n",
        "    self.things=things\n",
        "    self.cost=cost\n",
        "    self.stock = 0\n",
        "    self.balance=0\n",
        "  def deposit(self,amount):\n",
        "    if self.stock==0:\n",
        "      print(\"there is out of stock in the machine $\"+str(amount))\n",
        "    else:\n",
        "      self.balance = self.balance +amount\n",
        "      print(\"current balance:\",self.balance)\n",
        "  def restock(self,amount):\n",
        "    self.stock =self.stock + amount\n",
        "    print(\"current\"+self.things+\"stock:\"+str(self.stock))\n",
        "  def vend(self):\n",
        "    if self.stock==0:\n",
        "      print(\"here is your $\"+str(self.balance))\n",
        "    else:\n",
        "      if self.balance >=self.cost:\n",
        "        n =self.balance -self.cost\n",
        "        self.balance = self.balance -self.cost\n",
        "        if n > 0:\n",
        "          print(\"here is your\"+self.things+\"and$\"+str(n)+\"change\")\n",
        "        else: \n",
        "           n = self.cost -self.balance\n",
        "           print(\"you must deposit$\"+str(a)+\"more\")\n",
        "v = machine(\"candy\",11)\n",
        "v.vend\n",
        "v.deposit(15)\n",
        "v.restock(2)\n",
        "v.vend()\n",
        "v.deposit(7)\n",
        "v.vend()\n",
        "v.deposit(5)\n",
        "v.vend()"
      ]
    }
  ]
}