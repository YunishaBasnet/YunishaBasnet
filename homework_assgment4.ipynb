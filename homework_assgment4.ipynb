{
  "cells": [
    {
      "cell_type": "markdown",
      "metadata": {
        "id": "view-in-github",
        "colab_type": "text"
      },
      "source": [
        "<a href=\"https://colab.research.google.com/github/YunishaBasnet/YunishaBasnet/blob/main/homework_assgment4.ipynb\" target=\"_parent\"><img src=\"https://colab.research.google.com/assets/colab-badge.svg\" alt=\"Open In Colab\"/></a>"
      ]
    },
    {
      "cell_type": "code",
      "source": [
        "#answer no 1\n",
        "n=[10,3,1,9,2]\n",
        "def max_product(n): \n",
        "  n.sort()  #arraing every element in the acessending order.\n",
        "  print(n) #listing the order.\n",
        "  for i in range(len(n)): #no number less than 1\n",
        "      return n[-1]*n[-2] #product of two bigger num\n",
        "max_product(n)"
      ],
      "metadata": {
        "id": "HR-21mu101CB",
        "colab": {
          "base_uri": "https://localhost:8080/"
        },
        "outputId": "3e66375b-fc3e-4904-d945-16628775cd27"
      },
      "execution_count": 7,
      "outputs": [
        {
          "output_type": "stream",
          "name": "stdout",
          "text": [
            "[1, 2, 3, 9, 10]\n"
          ]
        },
        {
          "output_type": "execute_result",
          "data": {
            "text/plain": [
              "90"
            ]
          },
          "metadata": {},
          "execution_count": 7
        }
      ]
    },
    {
      "cell_type": "code",
      "source": [
        "#answer no 2\n",
        "\n",
        "def coords(fn, seq, lo, up):\n",
        "  return [[x, fn(x)] for x in seq if lo <= fn(x) <= up]\n",
        "  #testing the function here.\n",
        "print(coords(lambda x:x**2,[-4, -2, 0, 1, 3],1,9))\n",
        "  "
      ],
      "metadata": {
        "colab": {
          "base_uri": "https://localhost:8080/"
        },
        "id": "61YBMbpLxf7O",
        "outputId": "df0736b4-9b4d-4d30-91fb-5ae225b0d6da"
      },
      "execution_count": 26,
      "outputs": [
        {
          "output_type": "stream",
          "name": "stdout",
          "text": [
            "[[-2, 4], [1, 1], [3, 9]]\n"
          ]
        }
      ]
    },
    {
      "cell_type": "code",
      "source": [
        "#answer no 3\n",
        "def lst_order():\n",
        " lst = [-4, 1, -2, 0, 3] \n",
        " new_list = [] #empty to create a new list.\n",
        " while lst:\n",
        "    m = lst[0]  # arbitrary number in list \n",
        "    for x in lst: #checking the value of lst.\n",
        "        if x < m: # value of x should be less than minimum.\n",
        "            m = x #minimum and x should be equal.\n",
        "    new_list.append(m) \n",
        "    lst.remove(m)    \n",
        " print (new_list)\n",
        "lst_order()\n"
      ],
      "metadata": {
        "colab": {
          "base_uri": "https://localhost:8080/"
        },
        "id": "UoymDKkk96Vw",
        "outputId": "89684e30-705b-452b-bac9-b0bd02c45ba3"
      },
      "execution_count": 24,
      "outputs": [
        {
          "output_type": "stream",
          "name": "stdout",
          "text": [
            "[-4, -2, 0, 1, 3]\n"
          ]
        }
      ]
    },
    {
      "cell_type": "code",
      "source": [
        "#answer no 4\n",
        "def chk_elm(lst,n):\n",
        " for k in lst:\n",
        "  if n==k: #element is n and k \n",
        "    return True\n",
        "  else:\n",
        "    return False\n",
        "chk_elm([ [1,[2]], 3, [ [4], [5,[6]] ] ] , 7 )"
      ],
      "metadata": {
        "colab": {
          "base_uri": "https://localhost:8080/"
        },
        "id": "7YrQEeRc_FI9",
        "outputId": "12155bc7-3aed-46b8-c98d-fb9921ffdad0"
      },
      "execution_count": 28,
      "outputs": [
        {
          "output_type": "execute_result",
          "data": {
            "text/plain": [
              "False"
            ]
          },
          "metadata": {},
          "execution_count": 28
        }
      ]
    }
  ],
  "metadata": {
    "colab": {
      "provenance": [],
      "authorship_tag": "ABX9TyM10qMrx7W1W0+VwQbzqQkB",
      "include_colab_link": true
    },
    "kernelspec": {
      "display_name": "Python 3",
      "name": "python3"
    },
    "language_info": {
      "name": "python"
    }
  },
  "nbformat": 4,
  "nbformat_minor": 0
}